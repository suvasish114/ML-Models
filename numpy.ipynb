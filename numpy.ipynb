{
  "nbformat": 4,
  "nbformat_minor": 0,
  "metadata": {
    "colab": {
      "provenance": [],
      "authorship_tag": "ABX9TyM5a8g0rw74sL9X4AJRWZ+l"
    },
    "kernelspec": {
      "name": "python3",
      "display_name": "Python 3"
    },
    "language_info": {
      "name": "python"
    }
  },
  "cells": [
    {
      "cell_type": "markdown",
      "source": [
        "Numpy"
      ],
      "metadata": {
        "id": "RNAswjqWTg11"
      }
    },
    {
      "cell_type": "code",
      "source": [
        "import numpy as np\n",
        "arr = np.array([1,2,3])\n",
        "print(type(arr))                # printing type of a numpy array\n",
        "print(arr.ndim)                 # print dimention of the array"
      ],
      "metadata": {
        "colab": {
          "base_uri": "https://localhost:8080/"
        },
        "id": "_HTwH_lsTm6Y",
        "outputId": "b28ced37-0c66-4914-ec2a-c2a915729fb7"
      },
      "execution_count": 10,
      "outputs": [
        {
          "output_type": "stream",
          "name": "stdout",
          "text": [
            "<class 'numpy.ndarray'>\n",
            "1\n"
          ]
        }
      ]
    },
    {
      "cell_type": "code",
      "source": [
        "# showing taken time by a single line\n",
        "%timeit np.array([1,2,3])"
      ],
      "metadata": {
        "colab": {
          "base_uri": "https://localhost:8080/"
        },
        "id": "SLnFXR40WYz2",
        "outputId": "749585d2-d298-483f-f4f5-d65499d606ae"
      },
      "execution_count": 9,
      "outputs": [
        {
          "output_type": "stream",
          "name": "stdout",
          "text": [
            "978 ns ± 318 ns per loop (mean ± std. dev. of 7 runs, 1000000 loops each)\n"
          ]
        }
      ]
    },
    {
      "cell_type": "code",
      "source": [
        "# creating multidimentional array\n",
        "arr = np.array([1,2,3], ndmin = 2)  # creating 2D array\n",
        "print(arr)                          # printing the array contents\n",
        "print(arr.ndim)                     # printing dimention of the array"
      ],
      "metadata": {
        "colab": {
          "base_uri": "https://localhost:8080/"
        },
        "id": "gS_r1-QvYyni",
        "outputId": "5c88fbd3-15e9-4dd8-9734-5de5d6513403"
      },
      "execution_count": 11,
      "outputs": [
        {
          "output_type": "stream",
          "name": "stdout",
          "text": [
            "[[1 2 3]]\n",
            "2\n"
          ]
        }
      ]
    },
    {
      "cell_type": "code",
      "source": [
        "# fill array contents with 0\n",
        "arr = np.zeros((3,4))               # creating and filling conetnts with 0's\n",
        "print(arr)                          # printing the array contents\n",
        "print(arr.ndim)                     # printing dimention of the array"
      ],
      "metadata": {
        "colab": {
          "base_uri": "https://localhost:8080/"
        },
        "id": "rK5AniK1Z4Tu",
        "outputId": "ff50841d-c8c6-4d1c-966d-6325d1000dde"
      },
      "execution_count": 12,
      "outputs": [
        {
          "output_type": "stream",
          "name": "stdout",
          "text": [
            "[[0. 0. 0. 0.]\n",
            " [0. 0. 0. 0.]\n",
            " [0. 0. 0. 0.]]\n",
            "2\n"
          ]
        }
      ]
    },
    {
      "cell_type": "code",
      "source": [
        "# creating an empty array\n",
        "# the array contents will fill with previously stored memory values\n",
        "arr = np.empty(4)                   # dimention as arguments\n",
        "print(arr)                          # printing the array contents\n",
        "print(arr.ndim)                     # printing dimention of the array"
      ],
      "metadata": {
        "colab": {
          "base_uri": "https://localhost:8080/"
        },
        "id": "8OeqhyvIasY3",
        "outputId": "72b18477-6e69-4eae-abd9-d15e07934fec"
      },
      "execution_count": 14,
      "outputs": [
        {
          "output_type": "stream",
          "name": "stdout",
          "text": [
            "[5.e-324 5.e-324 5.e-324 0.e+000]\n",
            "1\n"
          ]
        }
      ]
    },
    {
      "cell_type": "code",
      "source": [],
      "metadata": {
        "id": "pEUEwYXvbF8t"
      },
      "execution_count": null,
      "outputs": []
    }
  ]
}
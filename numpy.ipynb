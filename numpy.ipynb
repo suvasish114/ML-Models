{
  "nbformat": 4,
  "nbformat_minor": 0,
  "metadata": {
    "colab": {
      "provenance": [],
      "toc_visible": true,
      "authorship_tag": "ABX9TyNK2E0/OTHdNZpBUEzVxCpC",
      "include_colab_link": true
    },
    "kernelspec": {
      "name": "python3",
      "display_name": "Python 3"
    },
    "language_info": {
      "name": "python"
    }
  },
  "cells": [
    {
      "cell_type": "markdown",
      "metadata": {
        "id": "view-in-github",
        "colab_type": "text"
      },
      "source": [
        "<a href=\"https://colab.research.google.com/github/suvasish114/ML-Notes/blob/main/numpy.ipynb\" target=\"_parent\"><img src=\"https://colab.research.google.com/assets/colab-badge.svg\" alt=\"Open In Colab\"/></a>"
      ]
    },
    {
      "cell_type": "markdown",
      "source": [
        "# Numpy"
      ],
      "metadata": {
        "id": "RNAswjqWTg11"
      }
    },
    {
      "cell_type": "markdown",
      "source": [
        "NumPy’s main object is the homogeneous multidimensional array. It is a table of elements (usually numbers), all of the same type, indexed by a tuple of non-negative integers. In NumPy dimensions are called axes.\n",
        "\n"
      ],
      "metadata": {
        "id": "p-9p7iaFk_gT"
      }
    },
    {
      "cell_type": "code",
      "source": [
        "%pip install numpy\n",
        "%pip install matplotlib"
      ],
      "metadata": {
        "id": "uMzufLoGqzYN",
        "colab": {
          "base_uri": "https://localhost:8080/"
        },
        "outputId": "b004a9d2-e0cb-4ece-f28c-df1a60ad98c6"
      },
      "execution_count": 1,
      "outputs": [
        {
          "output_type": "stream",
          "name": "stdout",
          "text": [
            "Looking in indexes: https://pypi.org/simple, https://us-python.pkg.dev/colab-wheels/public/simple/\n",
            "Requirement already satisfied: numpy in /usr/local/lib/python3.8/dist-packages (1.21.6)\n",
            "Looking in indexes: https://pypi.org/simple, https://us-python.pkg.dev/colab-wheels/public/simple/\n",
            "Requirement already satisfied: matplotlib in /usr/local/lib/python3.8/dist-packages (3.2.2)\n",
            "Requirement already satisfied: cycler>=0.10 in /usr/local/lib/python3.8/dist-packages (from matplotlib) (0.11.0)\n",
            "Requirement already satisfied: python-dateutil>=2.1 in /usr/local/lib/python3.8/dist-packages (from matplotlib) (2.8.2)\n",
            "Requirement already satisfied: numpy>=1.11 in /usr/local/lib/python3.8/dist-packages (from matplotlib) (1.21.6)\n",
            "Requirement already satisfied: pyparsing!=2.0.4,!=2.1.2,!=2.1.6,>=2.0.1 in /usr/local/lib/python3.8/dist-packages (from matplotlib) (3.0.9)\n",
            "Requirement already satisfied: kiwisolver>=1.0.1 in /usr/local/lib/python3.8/dist-packages (from matplotlib) (1.4.4)\n",
            "Requirement already satisfied: six>=1.5 in /usr/local/lib/python3.8/dist-packages (from python-dateutil>=2.1->matplotlib) (1.15.0)\n"
          ]
        }
      ]
    },
    {
      "cell_type": "code",
      "source": [
        "# imports\n",
        "import numpy as np\n",
        "import matplotlib.pyplot as plt"
      ],
      "metadata": {
        "id": "ITjlDI0-rIBM"
      },
      "execution_count": 2,
      "outputs": []
    },
    {
      "cell_type": "code",
      "source": [
        "arr = np.array([1,2,3])         # create an n-dimentional array object\n",
        "print(arr.dtype)                # document type\n",
        "print(arr.ndim)                 # number of axes\n",
        "print(arr.data)                 # the buffer containing the actual elements of the array\n",
        "print(arr.shape)                # the dimensions of the array\n",
        "print(arr.size)                 # total number of elements of the array\n",
        "print(arr.itemsize)             # the size in bytes of each element of the array"
      ],
      "metadata": {
        "colab": {
          "base_uri": "https://localhost:8080/"
        },
        "id": "_HTwH_lsTm6Y",
        "outputId": "d0c85224-7280-465b-a460-b3bc78230e55"
      },
      "execution_count": 3,
      "outputs": [
        {
          "output_type": "stream",
          "name": "stdout",
          "text": [
            "int64\n",
            "1\n",
            "<memory at 0x7f2a5adc2ac0>\n",
            "(3,)\n",
            "3\n",
            "8\n"
          ]
        }
      ]
    },
    {
      "cell_type": "code",
      "source": [
        "# showing taken time by a single line\n",
        "%timeit np.array([1,2,3])"
      ],
      "metadata": {
        "colab": {
          "base_uri": "https://localhost:8080/"
        },
        "id": "SLnFXR40WYz2",
        "outputId": "129da996-cdab-4c0e-ccad-ccbf8606661b"
      },
      "execution_count": 4,
      "outputs": [
        {
          "output_type": "stream",
          "name": "stdout",
          "text": [
            "818 ns ± 66.6 ns per loop (mean ± std. dev. of 7 runs, 1000000 loops each)\n"
          ]
        }
      ]
    },
    {
      "cell_type": "code",
      "source": [
        "# creating multidimentional array\n",
        "arr = np.array([1,2,3], ndmin = 2)  # creating 2D array\n",
        "print(arr)                          # printing the array contents\n",
        "print(arr.ndim)                     # printing dimention of the array"
      ],
      "metadata": {
        "colab": {
          "base_uri": "https://localhost:8080/"
        },
        "id": "gS_r1-QvYyni",
        "outputId": "5ac781c2-c324-4b17-cbdb-53636c2cf169"
      },
      "execution_count": 5,
      "outputs": [
        {
          "output_type": "stream",
          "name": "stdout",
          "text": [
            "[[1 2 3]]\n",
            "2\n"
          ]
        }
      ]
    },
    {
      "cell_type": "code",
      "source": [
        "# fill array contents\n",
        "arr_zeros = np.zeros((3,4))         # create array filled with 0's\n",
        "arr_ones = np.ones((3,4))           # create array filled with 1's\n",
        "arr_empty = np.empty((3,4))         # create array filled with empty memory elements (garbages) "
      ],
      "metadata": {
        "id": "rK5AniK1Z4Tu"
      },
      "execution_count": 6,
      "outputs": []
    },
    {
      "cell_type": "code",
      "source": [
        "# create sequences of numbers\n",
        "arr = np.arange(0,10,3)             # 0 to 10 with gap 3\n",
        "print(arr)"
      ],
      "metadata": {
        "id": "87Stp-tQoqwT",
        "outputId": "5a0dcb45-ee65-4e69-89ff-a15600799ac6",
        "colab": {
          "base_uri": "https://localhost:8080/"
        }
      },
      "execution_count": 7,
      "outputs": [
        {
          "output_type": "stream",
          "name": "stdout",
          "text": [
            "[0 3 6 9]\n"
          ]
        }
      ]
    },
    {
      "cell_type": "code",
      "source": [
        "# RESHAPE THE ARRAY\n",
        "arr = np.array(range(0,12)).reshape(4,3)\n",
        "print(arr)\n",
        "print(f\"Ravel: {arr.ravel()}\")    # return the whole matrix in 1d array\n",
        "print(f\"Transpose:\\n{arr.T}\")      # transpose of the array"
      ],
      "metadata": {
        "colab": {
          "base_uri": "https://localhost:8080/"
        },
        "id": "jWZDaSmtyP1E",
        "outputId": "2aaf9fd9-6510-4e33-ee5e-c6bf6aba88e6"
      },
      "execution_count": 19,
      "outputs": [
        {
          "output_type": "stream",
          "name": "stdout",
          "text": [
            "[[ 0  1  2]\n",
            " [ 3  4  5]\n",
            " [ 6  7  8]\n",
            " [ 9 10 11]]\n",
            "Ravel: [ 0  1  2  3  4  5  6  7  8  9 10 11]\n",
            "Transpose:\n",
            "[[ 0  3  6  9]\n",
            " [ 1  4  7 10]\n",
            " [ 2  5  8 11]]\n"
          ]
        }
      ]
    },
    {
      "cell_type": "code",
      "source": [
        "# MERGING MATRICES\n",
        "arr1 = np.arange(0,12).reshape(3,4)\n",
        "arr2 = np.arange(12,16).reshape(1,4)\n",
        "np.vstack((arr1, arr2))                 # vertically merge"
      ],
      "metadata": {
        "id": "bnkcWb5p0sSJ",
        "outputId": "b35430e4-ec7a-4ac8-dbb3-3941853e171a",
        "colab": {
          "base_uri": "https://localhost:8080/"
        }
      },
      "execution_count": 24,
      "outputs": [
        {
          "output_type": "execute_result",
          "data": {
            "text/plain": [
              "array([[ 0,  1,  2,  3],\n",
              "       [ 4,  5,  6,  7],\n",
              "       [ 8,  9, 10, 11],\n",
              "       [12, 13, 14, 15]])"
            ]
          },
          "metadata": {},
          "execution_count": 24
        }
      ]
    }
  ]
}
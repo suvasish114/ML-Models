{
  "nbformat": 4,
  "nbformat_minor": 0,
  "metadata": {
    "colab": {
      "provenance": [],
      "authorship_tag": "ABX9TyOxP6B/9PZMgruMosBESXpd",
      "include_colab_link": true
    },
    "kernelspec": {
      "name": "python3",
      "display_name": "Python 3"
    },
    "language_info": {
      "name": "python"
    }
  },
  "cells": [
    {
      "cell_type": "markdown",
      "metadata": {
        "id": "view-in-github",
        "colab_type": "text"
      },
      "source": [
        "<a href=\"https://colab.research.google.com/github/suvasish114/ML-Notes/blob/main/numpy.ipynb\" target=\"_parent\"><img src=\"https://colab.research.google.com/assets/colab-badge.svg\" alt=\"Open In Colab\"/></a>"
      ]
    },
    {
      "cell_type": "markdown",
      "source": [
        "# Numpy"
      ],
      "metadata": {
        "id": "RNAswjqWTg11"
      }
    },
    {
      "cell_type": "markdown",
      "source": [
        "NumPy’s main object is the homogeneous multidimensional array. It is a table of elements (usually numbers), all of the same type, indexed by a tuple of non-negative integers. In NumPy dimensions are called axes.\n",
        "\n"
      ],
      "metadata": {
        "id": "p-9p7iaFk_gT"
      }
    },
    {
      "cell_type": "code",
      "source": [
        "%pip install numpy\n",
        "%pip install matplotlib"
      ],
      "metadata": {
        "id": "uMzufLoGqzYN"
      },
      "execution_count": null,
      "outputs": []
    },
    {
      "cell_type": "code",
      "source": [
        "# imports\n",
        "import numpy as np\n",
        "import matplotlib.pyplot as plt"
      ],
      "metadata": {
        "id": "ITjlDI0-rIBM"
      },
      "execution_count": 12,
      "outputs": []
    },
    {
      "cell_type": "code",
      "source": [
        "arr = np.array([1,2,3])         # create an n-dimentional array object\n",
        "print(arr.dtype)                # document type\n",
        "print(arr.ndim)                 # number of axes\n",
        "print(arr.data)                 # the buffer containing the actual elements of the array\n",
        "print(arr.shape)                # the dimensions of the array\n",
        "print(arr.size)                 # total number of elements of the array\n",
        "print(arr.itemsize)             # the size in bytes of each element of the array"
      ],
      "metadata": {
        "colab": {
          "base_uri": "https://localhost:8080/"
        },
        "id": "_HTwH_lsTm6Y",
        "outputId": "2049f792-2631-4f5b-a59e-4a6f05f6af45"
      },
      "execution_count": 2,
      "outputs": [
        {
          "output_type": "stream",
          "name": "stdout",
          "text": [
            "int64\n",
            "1\n",
            "<memory at 0x7f041f3516d0>\n",
            "(3,)\n",
            "3\n",
            "8\n"
          ]
        }
      ]
    },
    {
      "cell_type": "code",
      "source": [
        "# showing taken time by a single line\n",
        "%timeit np.array([1,2,3])"
      ],
      "metadata": {
        "colab": {
          "base_uri": "https://localhost:8080/"
        },
        "id": "SLnFXR40WYz2",
        "outputId": "749585d2-d298-483f-f4f5-d65499d606ae"
      },
      "execution_count": null,
      "outputs": [
        {
          "output_type": "stream",
          "name": "stdout",
          "text": [
            "978 ns ± 318 ns per loop (mean ± std. dev. of 7 runs, 1000000 loops each)\n"
          ]
        }
      ]
    },
    {
      "cell_type": "code",
      "source": [
        "# creating multidimentional array\n",
        "arr = np.array([1,2,3], ndmin = 2)  # creating 2D array\n",
        "print(arr)                          # printing the array contents\n",
        "print(arr.ndim)                     # printing dimention of the array"
      ],
      "metadata": {
        "colab": {
          "base_uri": "https://localhost:8080/"
        },
        "id": "gS_r1-QvYyni",
        "outputId": "5c88fbd3-15e9-4dd8-9734-5de5d6513403"
      },
      "execution_count": null,
      "outputs": [
        {
          "output_type": "stream",
          "name": "stdout",
          "text": [
            "[[1 2 3]]\n",
            "2\n"
          ]
        }
      ]
    },
    {
      "cell_type": "code",
      "source": [
        "# fill array contents\n",
        "arr_zeros = np.zeros((3,4))         # create array filled with 0's\n",
        "arr_ones = np.ones((3,4))           # create array filled with 1's\n",
        "arr_empty = np.empty((3,4))         # create array filled with empty memory elements (garbages) "
      ],
      "metadata": {
        "id": "rK5AniK1Z4Tu"
      },
      "execution_count": 3,
      "outputs": []
    },
    {
      "cell_type": "code",
      "source": [
        "# create sequences of numbers\n",
        "arr = np.arange(0,10,3)             # 0 to 10 with gap 3\n",
        "print(arr)"
      ],
      "metadata": {
        "id": "87Stp-tQoqwT",
        "outputId": "3d601773-1c39-45a2-d55d-e7c94ba3b914",
        "colab": {
          "base_uri": "https://localhost:8080/"
        }
      },
      "execution_count": 4,
      "outputs": [
        {
          "output_type": "stream",
          "name": "stdout",
          "text": [
            "[0 3 6 9]\n"
          ]
        }
      ]
    },
    {
      "cell_type": "code",
      "source": [
        "# reshape an array\n",
        "print(arr.shape)                    # previous array\n",
        "print(arr.reshape(2,2))             # changed shape into 2x2 array"
      ],
      "metadata": {
        "id": "pEUEwYXvbF8t",
        "outputId": "bb50a5db-46b5-4127-8a36-799d40ad6b03",
        "colab": {
          "base_uri": "https://localhost:8080/"
        }
      },
      "execution_count": 10,
      "outputs": [
        {
          "output_type": "stream",
          "name": "stdout",
          "text": [
            "(4,)\n",
            "[[0 3]\n",
            " [6 9]]\n"
          ]
        }
      ]
    },
    {
      "cell_type": "code",
      "source": [
        "# plot n-dimentional array\n",
        "arr = np.arange(12).reshape(3,4)\n",
        "plt.plot(arr)"
      ],
      "metadata": {
        "id": "GnAGGg5pqcrL",
        "outputId": "c302b7d1-75a2-4f4a-a083-41fbe6858f13",
        "colab": {
          "base_uri": "https://localhost:8080/",
          "height": 336
        }
      },
      "execution_count": 17,
      "outputs": [
        {
          "output_type": "execute_result",
          "data": {
            "text/plain": [
              "[<matplotlib.lines.Line2D at 0x7f040f9aa9d0>,\n",
              " <matplotlib.lines.Line2D at 0x7f040f9aac10>,\n",
              " <matplotlib.lines.Line2D at 0x7f040f9aadd0>,\n",
              " <matplotlib.lines.Line2D at 0x7f040f9aaf90>]"
            ]
          },
          "metadata": {},
          "execution_count": 17
        },
        {
          "output_type": "display_data",
          "data": {
            "text/plain": [
              "<Figure size 432x288 with 1 Axes>"
            ],
            "image/png": "[encoded data removed]"
          },
          "metadata": {
            "needs_background": "light"
          }
        }
      ]
    }
  ]
}
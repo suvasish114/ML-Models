{
  "nbformat": 4,
  "nbformat_minor": 0,
  "metadata": {
    "colab": {
      "provenance": [],
      "authorship_tag": "ABX9TyNytOCnT6FVBfeUWxzj9Mfy",
      "include_colab_link": true
    },
    "kernelspec": {
      "name": "python3",
      "display_name": "Python 3"
    },
    "language_info": {
      "name": "python"
    }
  },
  "cells": [
    {
      "cell_type": "markdown",
      "metadata": {
        "id": "view-in-github",
        "colab_type": "text"
      },
      "source": [
        "<a href=\"https://colab.research.google.com/github/suvasish114/ML-Projects/blob/main/K_Means_Clustering_2D.ipynb\" target=\"_parent\"><img src=\"https://colab.research.google.com/assets/colab-badge.svg\" alt=\"Open In Colab\"/></a>"
      ]
    },
    {
      "cell_type": "markdown",
      "source": [
        "# K Means Clustering"
      ],
      "metadata": {
        "id": "zDfVH9TybhBJ"
      }
    },
    {
      "cell_type": "code",
      "execution_count": 179,
      "metadata": {
        "colab": {
          "base_uri": "https://localhost:8080/"
        },
        "id": "q5uWuZHobGaG",
        "outputId": "7bba67fc-963e-42e6-fde4-04fc5e257203"
      },
      "outputs": [
        {
          "output_type": "stream",
          "name": "stdout",
          "text": [
            "Looking in indexes: https://pypi.org/simple, https://us-python.pkg.dev/colab-wheels/public/simple/\n",
            "Requirement already satisfied: numpy in /usr/local/lib/python3.8/dist-packages (1.21.6)\n",
            "Requirement already satisfied: matplotlib in /usr/local/lib/python3.8/dist-packages (3.2.2)\n",
            "Requirement already satisfied: pandas in /usr/local/lib/python3.8/dist-packages (1.3.5)\n",
            "Requirement already satisfied: python-dateutil>=2.1 in /usr/local/lib/python3.8/dist-packages (from matplotlib) (2.8.2)\n",
            "Requirement already satisfied: pyparsing!=2.0.4,!=2.1.2,!=2.1.6,>=2.0.1 in /usr/local/lib/python3.8/dist-packages (from matplotlib) (3.0.9)\n",
            "Requirement already satisfied: cycler>=0.10 in /usr/local/lib/python3.8/dist-packages (from matplotlib) (0.11.0)\n",
            "Requirement already satisfied: kiwisolver>=1.0.1 in /usr/local/lib/python3.8/dist-packages (from matplotlib) (1.4.4)\n",
            "Requirement already satisfied: pytz>=2017.3 in /usr/local/lib/python3.8/dist-packages (from pandas) (2022.7.1)\n",
            "Requirement already satisfied: six>=1.5 in /usr/local/lib/python3.8/dist-packages (from python-dateutil>=2.1->matplotlib) (1.15.0)\n"
          ]
        }
      ],
      "source": [
        "# Library requirements\n",
        "%pip install numpy matplotlib pandas"
      ]
    },
    {
      "cell_type": "code",
      "source": [
        "# Import libraries\n",
        "import numpy as np\n",
        "import pandas as pd\n",
        "from matplotlib import pyplot as plt\n",
        "from matplotlib.animation import FuncAnimation\n",
        "import random, math, time"
      ],
      "metadata": {
        "id": "2J-OwWO0b4bw"
      },
      "execution_count": 180,
      "outputs": []
    },
    {
      "cell_type": "code",
      "source": [
        "# Reading data from .csv file\n",
        "data = pd.read_csv(\"Shopping_CustomerData.csv\")\n",
        "# data.head()\n",
        "data.info()"
      ],
      "metadata": {
        "colab": {
          "base_uri": "https://localhost:8080/"
        },
        "id": "kCCpktd2cHfX",
        "outputId": "e2afa4a3-9bc1-4e90-ac3f-bd22bc7947e8"
      },
      "execution_count": 181,
      "outputs": [
        {
          "output_type": "stream",
          "name": "stdout",
          "text": [
            "<class 'pandas.core.frame.DataFrame'>\n",
            "RangeIndex: 200 entries, 0 to 199\n",
            "Data columns (total 8 columns):\n",
            " #   Column          Non-Null Count  Dtype  \n",
            "---  ------          --------------  -----  \n",
            " 0   CustomerID      200 non-null    int64  \n",
            " 1   CustomerGender  200 non-null    object \n",
            " 2   CustomerAge     200 non-null    int64  \n",
            " 3   CustomerCity    200 non-null    object \n",
            " 4   AnnualIncome    200 non-null    float64\n",
            " 5   CreditScore     200 non-null    int64  \n",
            " 6   SpendingScore   200 non-null    int64  \n",
            " 7   CustomerCityID  200 non-null    int64  \n",
            "dtypes: float64(1), int64(5), object(2)\n",
            "memory usage: 12.6+ KB\n"
          ]
        }
      ]
    },
    {
      "cell_type": "code",
      "source": [
        "# Check if any null values present in the dataset\n",
        "print(data.isna().any())"
      ],
      "metadata": {
        "colab": {
          "base_uri": "https://localhost:8080/"
        },
        "id": "gXgyWpk_cm_7",
        "outputId": "295ecef7-47b4-440e-e086-c7fc03f5f425"
      },
      "execution_count": 182,
      "outputs": [
        {
          "output_type": "stream",
          "name": "stdout",
          "text": [
            "CustomerID        False\n",
            "CustomerGender    False\n",
            "CustomerAge       False\n",
            "CustomerCity      False\n",
            "AnnualIncome      False\n",
            "CreditScore       False\n",
            "SpendingScore     False\n",
            "CustomerCityID    False\n",
            "dtype: bool\n"
          ]
        }
      ]
    },
    {
      "cell_type": "code",
      "source": [
        "# Filtering only required column from the dataset as trining data\n",
        "training_data = data[[\"AnnualIncome\", \"CreditScore\"]]\n",
        "print(training_data.info())"
      ],
      "metadata": {
        "colab": {
          "base_uri": "https://localhost:8080/"
        },
        "id": "MbaaDXtWdLwk",
        "outputId": "903dea29-3ac3-42ab-8ad0-0797bca83272"
      },
      "execution_count": 183,
      "outputs": [
        {
          "output_type": "stream",
          "name": "stdout",
          "text": [
            "<class 'pandas.core.frame.DataFrame'>\n",
            "RangeIndex: 200 entries, 0 to 199\n",
            "Data columns (total 2 columns):\n",
            " #   Column        Non-Null Count  Dtype  \n",
            "---  ------        --------------  -----  \n",
            " 0   AnnualIncome  200 non-null    float64\n",
            " 1   CreditScore   200 non-null    int64  \n",
            "dtypes: float64(1), int64(1)\n",
            "memory usage: 3.2 KB\n",
            "None\n"
          ]
        }
      ]
    },
    {
      "cell_type": "code",
      "source": [
        "# Plot data distribution in a 2D plane\n",
        "fig, ax = plt.subplots()\n",
        "x = training_data[\"AnnualIncome\"]\n",
        "y = training_data[\"CreditScore\"]\n",
        "ax.scatter(x, y)\n",
        "plt.xlabel(\"Annual Income →\")\n",
        "plt.ylabel(\"Credit Score →\")\n",
        "plt.show()"
      ],
      "metadata": {
        "colab": {
          "base_uri": "https://localhost:8080/",
          "height": 279
        },
        "id": "GVHg9f3UduPt",
        "outputId": "2ac59a73-601f-4a79-9fbd-4b5e15016fce"
      },
      "execution_count": 184,
      "outputs": [
        {
          "output_type": "display_data",
          "data": {
            "text/plain": [
              "<Figure size 432x288 with 1 Axes>"
            ],
            "image/png": "[encoded data removed]"
          },
          "metadata": {
            "needs_background": "light"
          }
        }
      ]
    },
    {
      "cell_type": "code",
      "source": [
        "# Selecting two hypothetical centroid\n",
        "midx = int(training_data[\"AnnualIncome\"].median())\n",
        "midy = int(training_data[\"CreditScore\"].median())\n",
        "\n",
        "# choosing centroid with high risk\n",
        "centroid1 = [ random.randint(int(min(training_data[\"AnnualIncome\"])), midx),\n",
        "             random.randint(int(min(training_data[\"CreditScore\"])), midy) ]\n",
        "\n",
        "# choosing centroid with low risk\n",
        "centroid2 = [ random.randint(midx + 1, int(max(training_data[\"AnnualIncome\"]))),\n",
        "             random.randint(midy + 1, int(max(training_data[\"CreditScore\"]))) ]\n",
        "\n",
        "# printing centroids\n",
        "print(centroid1, centroid2)"
      ],
      "metadata": {
        "colab": {
          "base_uri": "https://localhost:8080/"
        },
        "id": "3PzpFjC6e4ga",
        "outputId": "dbbaf896-5fbb-49fc-9a2c-0e37d2ad9890"
      },
      "execution_count": 185,
      "outputs": [
        {
          "output_type": "stream",
          "name": "stdout",
          "text": [
            "[222292, 687] [601262, 729]\n"
          ]
        }
      ]
    },
    {
      "cell_type": "code",
      "source": [
        "# Plotting\n",
        "fig, ax = plt.subplots()\n",
        "x = training_data[\"AnnualIncome\"]\n",
        "y = training_data[\"CreditScore\"]\n",
        "ax.scatter(x, y)\n",
        "ax.scatter([centroid1[0], centroid2[0]], [centroid1[1], centroid2[1]], s=[80], color='red')\n",
        "plt.xlabel(\"Annual Income →\")\n",
        "plt.ylabel(\"Credit Score →\")\n",
        "plt.show()"
      ],
      "metadata": {
        "colab": {
          "base_uri": "https://localhost:8080/",
          "height": 279
        },
        "id": "qFetb3Vuh-QX",
        "outputId": "27c1383e-c3eb-4719-b583-6f1188e45a32"
      },
      "execution_count": 186,
      "outputs": [
        {
          "output_type": "display_data",
          "data": {
            "text/plain": [
              "<Figure size 432x288 with 1 Axes>"
            ],
            "image/png": "[encoded data removed]"
          },
          "metadata": {
            "needs_background": "light"
          }
        }
      ]
    },
    {
      "cell_type": "code",
      "source": [
        "# Storing datapoints in a hashmap\n",
        "# Format: {(x co-ordinate, y co-ordinate): cluster_label}\n",
        "label = [None for _ in range(len(training_data))]\n",
        "cluster_map = dict(zip(\n",
        "    zip(training_data[\"AnnualIncome\"].to_list(),\n",
        "        training_data[\"CreditScore\"].to_list()), label))"
      ],
      "metadata": {
        "id": "9TkFuw95qach"
      },
      "execution_count": 187,
      "outputs": []
    },
    {
      "cell_type": "code",
      "source": [
        "# Function: Calculate centorid point\n",
        "def calculate_centroid(points):\n",
        "  ''' Calculate centroid point of the dataset by calculating the mean value of\n",
        "  the x and y dimention '''\n",
        "  xax = []\n",
        "  yax = []\n",
        "  for point in points:\n",
        "    xax.append(point[0])\n",
        "    yax.append(point[1])\n",
        "  return [np.array(xax).mean(), np.array(yax).mean()]"
      ],
      "metadata": {
        "id": "88ToZin2irJn"
      },
      "execution_count": 188,
      "outputs": []
    },
    {
      "cell_type": "code",
      "source": [
        "# Function: Calculate euclidean distance\n",
        "def euclidean_distance(point1, point2):\n",
        "  ''' Calculating euclidean distance between two points on a 2D plane '''\n",
        "  return math.sqrt((point2[1]-point1[1])**2 + (point2[0]-point1[0])**2)"
      ],
      "metadata": {
        "id": "LRR9_q4qkBGK"
      },
      "execution_count": 189,
      "outputs": []
    },
    {
      "cell_type": "code",
      "source": [
        "# Function: K-Mean clustering\n",
        "def kmeans_clustering(cluster_map, centroid1, centroid2):\n",
        "  flag = False\n",
        "  cluster1, cluster2 = [],[]\n",
        "\n",
        "  # labeling the coordinates\n",
        "  for a in list(cluster_map.keys()):\n",
        "    if euclidean_distance(a, centroid1) < euclidean_distance(a, centroid2):\n",
        "      if cluster_map[a] != 1:\n",
        "        flag = True\n",
        "      cluster_map[a] = 1\n",
        "      cluster1.append(a)\n",
        "    else:\n",
        "      if cluster_map[a] != 2:\n",
        "        flag = True\n",
        "      cluster_map[a] = 2\n",
        "      cluster2.append(a)\n",
        "  \n",
        "  # move the centroid\n",
        "  centroid1 = calculate_centroid(cluster1)\n",
        "  centroid2 = calculate_centroid(cluster2)\n",
        "  return flag, centroid1, centroid2"
      ],
      "metadata": {
        "id": "pS7zog-kjmNb"
      },
      "execution_count": 190,
      "outputs": []
    },
    {
      "cell_type": "code",
      "source": [
        "# TODO: animate the funciton\n",
        "x1, y1, x2, y2 = [],[],[],[]\n",
        "\n",
        "# Plotting\n",
        "fig, ax = plt.subplots()\n",
        "ax1 = ax.scatter(x1, y1, color='#5DADE2')\n",
        "ax2 = ax.scatter(x2, y2, color='#58D68D')\n",
        "ax3 = ax.scatter([centroid1[0], centroid2[0]], [centroid1[1], centroid2[1]], s=[80], color='red')\n",
        "plt.xlabel(\"Annual Income →\")\n",
        "plt.ylabel(\"Credit Score →\")\n",
        "\n",
        "def update_data(frame):\n",
        "  _, centroid1, centroid2 = kmeans_clustering(cluster_map, centroid1, centroid2)\n",
        "  tx1, ty1, tx2, ty2 = [],[],[],[]\n",
        "  for a in cluster_map.keys():\n",
        "    if cluster_map[a] == 1:\n",
        "      tx1.append(a[0])\n",
        "      ty1.append(a[1])\n",
        "    else:\n",
        "      tx2.append(a[0])\n",
        "      ty2.append(a[1])\n",
        "  ax1.set_data(tx1, ty1)\n",
        "  ax2.set_data(tx2, ty2)\n",
        "  ax3.set_data([centroid1[0], centroid2[0]], [centroid1[1], centroid2[1]])\n",
        "\n",
        "# animate\n",
        "ani = FuncAnimation(fig, update_data, frames=10, interval=50)\n",
        "\n",
        "plt.show()\n",
        "# print(centroid1, centroid2)\n",
        "# flag, centroid1, centroid2 = kmeans_clustering(cluster_map, centroid1, centroid2)\n",
        "# print(flag, centroid1, centroid2)\n",
        "# print(cluster_map)"
      ],
      "metadata": {
        "colab": {
          "base_uri": "https://localhost:8080/",
          "height": 493
        },
        "id": "RwQnA3Vu3kp1",
        "outputId": "010a9983-ccc9-4f38-9ea6-6a3d32697230"
      },
      "execution_count": 196,
      "outputs": [
        {
          "output_type": "stream",
          "name": "stderr",
          "text": [
            "Traceback (most recent call last):\n",
            "  File \"/usr/local/lib/python3.8/dist-packages/matplotlib/cbook/__init__.py\", line 196, in process\n",
            "    func(*args, **kwargs)\n",
            "  File \"/usr/local/lib/python3.8/dist-packages/matplotlib/animation.py\", line 951, in _start\n",
            "    self._init_draw()\n",
            "  File \"/usr/local/lib/python3.8/dist-packages/matplotlib/animation.py\", line 1743, in _init_draw\n",
            "    self._draw_frame(next(self.new_frame_seq()))\n",
            "  File \"/usr/local/lib/python3.8/dist-packages/matplotlib/animation.py\", line 1766, in _draw_frame\n",
            "    self._drawn_artists = self._func(framedata, *self._args)\n",
            "  File \"<ipython-input-196-d89965f8f5f0>\", line 13, in update_data\n",
            "    _, centroid1, centroid2 = kmeans_clustering(cluster_map, centroid1, centroid2)\n",
            "UnboundLocalError: local variable 'centroid1' referenced before assignment\n"
          ]
        },
        {
          "output_type": "display_data",
          "data": {
            "text/plain": [
              "<Figure size 432x288 with 1 Axes>"
            ],
            "image/png": "[encoded data removed]"
          },
          "metadata": {
            "needs_background": "light"
          }
        }
      ]
    },
    {
      "cell_type": "code",
      "source": [
        "x1, y1, x2, y2 = [],[],[],[]\n",
        "for a in cluster_map.keys():\n",
        "  if cluster_map[a] == 1:\n",
        "    x1.append(a[0])\n",
        "    y1.append(a[1])\n",
        "  else:\n",
        "    x2.append(a[0])\n",
        "    y2.append(a[1])\n",
        "\n",
        "# Plotting\n",
        "fig, ax = plt.subplots()\n",
        "ax.scatter(x1, y1, color='#5DADE2')\n",
        "ax.scatter(x2, y2, color='#58D68D')\n",
        "ax.scatter([centroid1[0], centroid2[0]], [centroid1[1], centroid2[1]], s=[80], color='red')\n",
        "plt.xlabel(\"Annual Income →\")\n",
        "plt.ylabel(\"Credit Score →\")\n",
        "plt.show()"
      ],
      "metadata": {
        "colab": {
          "base_uri": "https://localhost:8080/",
          "height": 279
        },
        "id": "0lH7wA-mvZeA",
        "outputId": "7c950129-7fa3-4e25-ed2c-cda242d946b4"
      },
      "execution_count": 192,
      "outputs": [
        {
          "output_type": "display_data",
          "data": {
            "text/plain": [
              "<Figure size 432x288 with 1 Axes>"
            ],
            "image/png": "[encoded data removed]"
          },
          "metadata": {
            "needs_background": "light"
          }
        }
      ]
    }
  ]
}
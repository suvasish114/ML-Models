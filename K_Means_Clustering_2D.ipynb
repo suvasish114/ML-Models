{
  "nbformat": 4,
  "nbformat_minor": 0,
  "metadata": {
    "colab": {
      "provenance": [],
      "authorship_tag": "ABX9TyOfchEQHM+/bDF6iMg6vsO7",
      "include_colab_link": true
    },
    "kernelspec": {
      "name": "python3",
      "display_name": "Python 3"
    },
    "language_info": {
      "name": "python"
    }
  },
  "cells": [
    {
      "cell_type": "markdown",
      "metadata": {
        "id": "view-in-github",
        "colab_type": "text"
      },
      "source": [
        "<a href=\"https://colab.research.google.com/github/suvasish114/ML-Projects/blob/main/K_Means_Clustering_2D.ipynb\" target=\"_parent\"><img src=\"https://colab.research.google.com/assets/colab-badge.svg\" alt=\"Open In Colab\"/></a>"
      ]
    },
    {
      "cell_type": "markdown",
      "source": [
        "# K Means Clustering"
      ],
      "metadata": {
        "id": "zDfVH9TybhBJ"
      }
    },
    {
      "cell_type": "code",
      "execution_count": 107,
      "metadata": {
        "colab": {
          "base_uri": "https://localhost:8080/"
        },
        "id": "q5uWuZHobGaG",
        "outputId": "c2deda1e-cc67-4a60-a852-47a2e0e035a9"
      },
      "outputs": [
        {
          "output_type": "stream",
          "name": "stdout",
          "text": [
            "Looking in indexes: https://pypi.org/simple, https://us-python.pkg.dev/colab-wheels/public/simple/\n",
            "Requirement already satisfied: numpy in /usr/local/lib/python3.8/dist-packages (1.21.6)\n",
            "Requirement already satisfied: matplotlib in /usr/local/lib/python3.8/dist-packages (3.2.2)\n",
            "Requirement already satisfied: pandas in /usr/local/lib/python3.8/dist-packages (1.3.5)\n",
            "Requirement already satisfied: kiwisolver>=1.0.1 in /usr/local/lib/python3.8/dist-packages (from matplotlib) (1.4.4)\n",
            "Requirement already satisfied: pyparsing!=2.0.4,!=2.1.2,!=2.1.6,>=2.0.1 in /usr/local/lib/python3.8/dist-packages (from matplotlib) (3.0.9)\n",
            "Requirement already satisfied: cycler>=0.10 in /usr/local/lib/python3.8/dist-packages (from matplotlib) (0.11.0)\n",
            "Requirement already satisfied: python-dateutil>=2.1 in /usr/local/lib/python3.8/dist-packages (from matplotlib) (2.8.2)\n",
            "Requirement already satisfied: pytz>=2017.3 in /usr/local/lib/python3.8/dist-packages (from pandas) (2022.7.1)\n",
            "Requirement already satisfied: six>=1.5 in /usr/local/lib/python3.8/dist-packages (from python-dateutil>=2.1->matplotlib) (1.15.0)\n"
          ]
        }
      ],
      "source": [
        "# Library requirements\n",
        "%pip install numpy matplotlib pandas"
      ]
    },
    {
      "cell_type": "code",
      "source": [
        "# Import libraries\n",
        "import numpy as np\n",
        "import pandas as pd\n",
        "from matplotlib import pyplot as plt\n",
        "from matplotlib.animation import FuncAnimation\n",
        "import random, math, time"
      ],
      "metadata": {
        "id": "2J-OwWO0b4bw"
      },
      "execution_count": 108,
      "outputs": []
    },
    {
      "cell_type": "code",
      "source": [
        "# Reading data from .csv file\n",
        "data = pd.read_csv(\"Shopping_CustomerData.csv\")\n",
        "# data.head()\n",
        "data.info()"
      ],
      "metadata": {
        "colab": {
          "base_uri": "https://localhost:8080/"
        },
        "id": "kCCpktd2cHfX",
        "outputId": "549790e4-09e0-43a4-ebfe-e69233b7bcb5"
      },
      "execution_count": 109,
      "outputs": [
        {
          "output_type": "stream",
          "name": "stdout",
          "text": [
            "<class 'pandas.core.frame.DataFrame'>\n",
            "RangeIndex: 200 entries, 0 to 199\n",
            "Data columns (total 8 columns):\n",
            " #   Column          Non-Null Count  Dtype  \n",
            "---  ------          --------------  -----  \n",
            " 0   CustomerID      200 non-null    int64  \n",
            " 1   CustomerGender  200 non-null    object \n",
            " 2   CustomerAge     200 non-null    int64  \n",
            " 3   CustomerCity    200 non-null    object \n",
            " 4   AnnualIncome    200 non-null    float64\n",
            " 5   CreditScore     200 non-null    int64  \n",
            " 6   SpendingScore   200 non-null    int64  \n",
            " 7   CustomerCityID  200 non-null    int64  \n",
            "dtypes: float64(1), int64(5), object(2)\n",
            "memory usage: 12.6+ KB\n"
          ]
        }
      ]
    },
    {
      "cell_type": "code",
      "source": [
        "# Check if any null values present in the dataset\n",
        "print(data.isna().any())"
      ],
      "metadata": {
        "colab": {
          "base_uri": "https://localhost:8080/"
        },
        "id": "gXgyWpk_cm_7",
        "outputId": "3f46a760-54a5-4dd1-f7cd-363c24aeb4ee"
      },
      "execution_count": 110,
      "outputs": [
        {
          "output_type": "stream",
          "name": "stdout",
          "text": [
            "CustomerID        False\n",
            "CustomerGender    False\n",
            "CustomerAge       False\n",
            "CustomerCity      False\n",
            "AnnualIncome      False\n",
            "CreditScore       False\n",
            "SpendingScore     False\n",
            "CustomerCityID    False\n",
            "dtype: bool\n"
          ]
        }
      ]
    },
    {
      "cell_type": "code",
      "source": [
        "# Filtering only required column from the dataset as trining data\n",
        "training_data = data[[\"AnnualIncome\", \"CreditScore\"]]\n",
        "print(training_data.info())"
      ],
      "metadata": {
        "colab": {
          "base_uri": "https://localhost:8080/"
        },
        "id": "MbaaDXtWdLwk",
        "outputId": "b042fc23-3111-4c17-92dd-fd07021fdace"
      },
      "execution_count": 111,
      "outputs": [
        {
          "output_type": "stream",
          "name": "stdout",
          "text": [
            "<class 'pandas.core.frame.DataFrame'>\n",
            "RangeIndex: 200 entries, 0 to 199\n",
            "Data columns (total 2 columns):\n",
            " #   Column        Non-Null Count  Dtype  \n",
            "---  ------        --------------  -----  \n",
            " 0   AnnualIncome  200 non-null    float64\n",
            " 1   CreditScore   200 non-null    int64  \n",
            "dtypes: float64(1), int64(1)\n",
            "memory usage: 3.2 KB\n",
            "None\n"
          ]
        }
      ]
    },
    {
      "cell_type": "code",
      "source": [
        "# Plot data distribution in a 2D plane\n",
        "fig, ax = plt.subplots()\n",
        "x = training_data[\"AnnualIncome\"]\n",
        "y = training_data[\"CreditScore\"]\n",
        "ax.scatter(x, y)\n",
        "plt.xlabel(\"Annual Income →\")\n",
        "plt.ylabel(\"Credit Score →\")\n",
        "plt.show()"
      ],
      "metadata": {
        "colab": {
          "base_uri": "https://localhost:8080/",
          "height": 279
        },
        "id": "GVHg9f3UduPt",
        "outputId": "077887c1-4738-46b6-aefa-4b7df14177a1"
      },
      "execution_count": 112,
      "outputs": [
        {
          "output_type": "display_data",
          "data": {
            "text/plain": [
              "<Figure size 432x288 with 1 Axes>"
            ],
            "image/png": "[encoded data removed]"
          },
          "metadata": {
            "needs_background": "light"
          }
        }
      ]
    },
    {
      "cell_type": "code",
      "source": [
        "# Selecting two hypothetical centroid\n",
        "midx = int(training_data[\"AnnualIncome\"].median())\n",
        "midy = int(training_data[\"CreditScore\"].median())\n",
        "\n",
        "# choosing centroid with high risk\n",
        "centroid1 = [ random.randint(int(min(training_data[\"AnnualIncome\"])), midx),\n",
        "             random.randint(int(min(training_data[\"CreditScore\"])), midy) ]\n",
        "\n",
        "# choosing centroid with low risk\n",
        "centroid2 = [ random.randint(midx + 1, int(max(training_data[\"AnnualIncome\"]))),\n",
        "             random.randint(midy + 1, int(max(training_data[\"CreditScore\"]))) ]\n",
        "\n",
        "# printing centroids\n",
        "print(centroid1, centroid2)"
      ],
      "metadata": {
        "colab": {
          "base_uri": "https://localhost:8080/"
        },
        "id": "3PzpFjC6e4ga",
        "outputId": "132a16f1-23a3-4012-894d-81b64162da7a"
      },
      "execution_count": 113,
      "outputs": [
        {
          "output_type": "stream",
          "name": "stdout",
          "text": [
            "[207510, 643] [308218, 890]\n"
          ]
        }
      ]
    },
    {
      "cell_type": "code",
      "source": [
        "# Plotting\n",
        "fig, ax = plt.subplots()\n",
        "x = training_data[\"AnnualIncome\"]\n",
        "y = training_data[\"CreditScore\"]\n",
        "ax.scatter(x, y)\n",
        "ax.scatter([centroid1[0], centroid2[0]], [centroid1[1], centroid2[1]], s=[80], color='red')\n",
        "plt.xlabel(\"Annual Income →\")\n",
        "plt.ylabel(\"Credit Score →\")\n",
        "plt.show()"
      ],
      "metadata": {
        "colab": {
          "base_uri": "https://localhost:8080/",
          "height": 279
        },
        "id": "qFetb3Vuh-QX",
        "outputId": "7f64f0c2-88c6-43b5-e467-e024d39bf879"
      },
      "execution_count": 114,
      "outputs": [
        {
          "output_type": "display_data",
          "data": {
            "text/plain": [
              "<Figure size 432x288 with 1 Axes>"
            ],
            "image/png": "[encoded data removed]"
          },
          "metadata": {
            "needs_background": "light"
          }
        }
      ]
    },
    {
      "cell_type": "code",
      "source": [
        "# Storing datapoints in a hashmap\n",
        "# Format: {(x co-ordinate, y co-ordinate): cluster_label}\n",
        "label = [None for _ in range(len(training_data))]\n",
        "cluster_map = dict(zip(\n",
        "    zip(training_data[\"AnnualIncome\"].to_list(),\n",
        "        training_data[\"CreditScore\"].to_list()), label))"
      ],
      "metadata": {
        "id": "9TkFuw95qach"
      },
      "execution_count": 115,
      "outputs": []
    },
    {
      "cell_type": "code",
      "source": [
        "# Function: Calculate centorid point\n",
        "def calculate_centroid(points):\n",
        "  ''' Calculate centroid point of the dataset by calculating the mean value of\n",
        "  the x and y dimention '''\n",
        "  xax = []\n",
        "  yax = []\n",
        "  for point in points:\n",
        "    xax.append(point[0])\n",
        "    yax.append(point[1])\n",
        "  return [np.array(xax).mean(), np.array(yax).mean()]"
      ],
      "metadata": {
        "id": "88ToZin2irJn"
      },
      "execution_count": 116,
      "outputs": []
    },
    {
      "cell_type": "code",
      "source": [
        "# Function: Calculate euclidean distance\n",
        "def euclidean_distance(point1, point2):\n",
        "  ''' Calculating euclidean distance between two points on a 2D plane '''\n",
        "  return math.sqrt((point2[1]-point1[1])**2 + (point2[0]-point1[0])**2)"
      ],
      "metadata": {
        "id": "LRR9_q4qkBGK"
      },
      "execution_count": 117,
      "outputs": []
    },
    {
      "cell_type": "code",
      "source": [
        "# Function: K-Mean clustering\n",
        "def kmeans_clustering(cluster_map, centroid1, centroid2):\n",
        "  flag = False\n",
        "  cluster1, cluster2 = [],[]\n",
        "\n",
        "  # labeling the coordinates\n",
        "  for a in list(cluster_map.keys()):\n",
        "    if euclidean_distance(a, centroid1) < euclidean_distance(a, centroid2):\n",
        "      if cluster_map[a] != 1:\n",
        "        flag = True\n",
        "      cluster_map[a] = 1\n",
        "      cluster1.append(a)\n",
        "    else:\n",
        "      if cluster_map[a] != 2:\n",
        "        flag = True\n",
        "      cluster_map[a] = 2\n",
        "      cluster2.append(a)\n",
        "  \n",
        "  # move the centroid\n",
        "  centroid1 = calculate_centroid(cluster1)\n",
        "  centroid2 = calculate_centroid(cluster2)\n",
        "  return flag, centroid1, centroid2"
      ],
      "metadata": {
        "id": "pS7zog-kjmNb"
      },
      "execution_count": 118,
      "outputs": []
    },
    {
      "cell_type": "code",
      "source": [
        "# Testing\n",
        "print(centroid1, centroid2)\n",
        "_, centroid1, centroid2 = kmeans_clustering(cluster_map, centroid1, centroid2)\n",
        "print(centroid1, centroid2)"
      ],
      "metadata": {
        "id": "d5BPRTB1C3tu",
        "outputId": "80e3df1e-8707-4462-f0d6-f8a0a545afee",
        "colab": {
          "base_uri": "https://localhost:8080/"
        }
      },
      "execution_count": 119,
      "outputs": [
        {
          "output_type": "stream",
          "name": "stdout",
          "text": [
            "[207510, 643] [308218, 890]\n",
            "[143073.73022904166, 717.5104166666666] [416285.6560317307, 722.25]\n"
          ]
        }
      ]
    },
    {
      "cell_type": "code",
      "source": [
        "x1, y1, x2, y2 = [],[],[],[]\n",
        "\n",
        "fig, ax = plt.subplots()\n",
        "ax.scatter(x1, y1, color='#5DADE2')\n",
        "ax.scatter(x2, y2, color='#58D68D')\n",
        "ax.scatter([centroid1[0], centroid2[0]], [centroid1[1], centroid2[1]], s=[80], color='red')\n",
        "plt.xlabel(\"Annual Income →\")\n",
        "plt.ylabel(\"Credit Score →\")\n",
        "\n",
        "# Function: animation\n",
        "def animate(i):\n",
        "  ''' animate the canvas at each interval '''\n",
        "  global centroid1, centroid2\n",
        "  _, centroid1, centroid2 = kmeans_clustering(cluster_map, centroid1, centroid2)\n",
        "  x1, y1, x2, y2 = [],[],[],[]\n",
        "  for a in cluster_map.keys():\n",
        "    if cluster_map[a] == 1:\n",
        "      x1.append(a[0])\n",
        "      y1.append(a[1])\n",
        "    else:\n",
        "      x2.append(a[0])\n",
        "      y2.append(a[1])\n",
        "  plt.cla()\n",
        "  ax.scatter(x1, y1, color='#5DADE2')\n",
        "  ax.scatter(x2, y2, color='#58D68D')\n",
        "  ax.scatter([centroid1[0], centroid2[0]], [centroid1[1], centroid2[1]], s=[80], color='red')\n",
        "\n",
        "ani = FuncAnimation(fig, animate, frames=500, interval=500, repeat=False)\n",
        "plt.show()"
      ],
      "metadata": {
        "id": "AChq_BeMChDu",
        "outputId": "244a2d8b-d7f5-4c24-e509-c17a89c4aadd",
        "colab": {
          "base_uri": "https://localhost:8080/",
          "height": 265
        }
      },
      "execution_count": 120,
      "outputs": [
        {
          "output_type": "display_data",
          "data": {
            "text/plain": [
              "<Figure size 432x288 with 1 Axes>"
            ],
            "image/png": "[encoded data removed]"
          },
          "metadata": {
            "needs_background": "light"
          }
        }
      ]
    }
  ]
}
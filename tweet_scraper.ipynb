{
  "nbformat": 4,
  "nbformat_minor": 0,
  "metadata": {
    "colab": {
      "provenance": [],
      "authorship_tag": "ABX9TyODsdHRO6eU1AbNi/ZKSFQX",
      "include_colab_link": true
    },
    "kernelspec": {
      "name": "python3",
      "display_name": "Python 3"
    },
    "language_info": {
      "name": "python"
    }
  },
  "cells": [
    {
      "cell_type": "markdown",
      "metadata": {
        "id": "view-in-github",
        "colab_type": "text"
      },
      "source": [
        "<a href=\"https://colab.research.google.com/github/suvasish114/ML-Models/blob/main/tweet_scraper.ipynb\" target=\"_parent\"><img src=\"https://colab.research.google.com/assets/colab-badge.svg\" alt=\"Open In Colab\"/></a>"
      ]
    },
    {
      "cell_type": "markdown",
      "source": [
        "Scrapping twitter data"
      ],
      "metadata": {
        "id": "dRU8fGLQExWQ"
      }
    },
    {
      "cell_type": "code",
      "execution_count": null,
      "metadata": {
        "id": "vW7ewMj_EuwB"
      },
      "outputs": [],
      "source": [
        "# installing packages\n",
        "%pip install snscrape numpy pandas"
      ]
    },
    {
      "cell_type": "code",
      "source": [
        "# import libraries\n",
        "import snscrape.modules.twitter as sntwitter\n",
        "import pandas as pd"
      ],
      "metadata": {
        "id": "udxEUDZnE-Q4"
      },
      "execution_count": 42,
      "outputs": []
    },
    {
      "cell_type": "code",
      "source": [
        "# configarations\n",
        "limit = 50000\n",
        "tweets = []\n",
        "keywords = \" OR \".join([\"airport\",\"restaurant\",\"stadiums\"]).strip()\n",
        "query =  \"(\"+ keywords +\") \" +\"until:2023-03-05 since:2022-01-01 -filter:replies\""
      ],
      "metadata": {
        "id": "BnvsfRGfFOLR"
      },
      "execution_count": 43,
      "outputs": []
    },
    {
      "cell_type": "code",
      "source": [
        "# getting data\n",
        "for tweet in sntwitter.TwitterSearchScraper(query).get_items():\n",
        "  if len(tweets) == limit: break\n",
        "  tweets.append([tweet.id,\n",
        "                 tweet.date,\n",
        "                 tweet.user.username,\n",
        "                 tweet.user.id,\n",
        "                 tweet.likeCount,\n",
        "                 tweet.viewCount,\n",
        "                 tweet.lang,\n",
        "                 tweet.hashtags,\n",
        "                 tweet.rawContent])"
      ],
      "metadata": {
        "id": "EaD1fWe8Sx8r"
      },
      "execution_count": 44,
      "outputs": []
    },
    {
      "cell_type": "code",
      "source": [
        "# creating dataframe\n",
        "df = pd.DataFrame(tweets, columns=['id','date','username','userid','likes','view','lang','hashtags','content'])\n",
        "df.head()"
      ],
      "metadata": {
        "colab": {
          "base_uri": "https://localhost:8080/",
          "height": 548
        },
        "id": "yhpmNvTnOjCC",
        "outputId": "4b8e76d7-a40c-4ac4-866a-841dfca58a31"
      },
      "execution_count": 45,
      "outputs": [
        {
          "output_type": "execute_result",
          "data": {
            "text/plain": [
              "                    id                      date        username  \\\n",
              "0  1632169035721736193 2023-03-04 23:59:57+00:00  WilliamsonClet   \n",
              "1  1632168990444507136 2023-03-04 23:59:46+00:00  sal_definitely   \n",
              "2  1632168988166725632 2023-03-04 23:59:45+00:00         Lina_7B   \n",
              "3  1632168936996507649 2023-03-04 23:59:33+00:00  gopikrishnat68   \n",
              "4  1632168936811659264 2023-03-04 23:59:33+00:00      YPJAirport   \n",
              "\n",
              "                userid  likes   view lang  \\\n",
              "0   882526585500442624      0    9.0   en   \n",
              "1  1575281313774706688      3  136.0   en   \n",
              "2  1259502755879833602      1  638.0   en   \n",
              "3  1626901430140538880      0   22.0   en   \n",
              "4   943123769480089604      0    NaN   en   \n",
              "\n",
              "                                            hashtags  \\\n",
              "0                                               None   \n",
              "1                                               None   \n",
              "2  [BLACKPINK, BLINK, BORNPINK, Airport, LISA, JE...   \n",
              "3                                               None   \n",
              "4                                      [flightaware]   \n",
              "\n",
              "                                             content  \n",
              "0  MY SEMI DIRECT BRIEF\\n\\nA client needs a space...  \n",
              "1  If you want to find a bunch of happy Mexicans ...  \n",
              "2  230305 | BLACKPINK SGBAC Airport Fashion\\n\\nWe...  \n",
              "3  Hi and hello @BLRAirport i didn't understand t...  \n",
              "4  Air Inuit #852 arrived at Aupaluk (YPJ) at 06:...  "
            ],
            "text/html": [
              "\n",
              "  <div id=\"df-ce1530e3-4ce6-4cd8-ba87-39cf89f2f31c\">\n",
              "    <div class=\"colab-df-container\">\n",
              "      <div>\n",
              "<style scoped>\n",
              "    .dataframe tbody tr th:only-of-type {\n",
              "        vertical-align: middle;\n",
              "    }\n",
              "\n",
              "    .dataframe tbody tr th {\n",
              "        vertical-align: top;\n",
              "    }\n",
              "\n",
              "    .dataframe thead th {\n",
              "        text-align: right;\n",
              "    }\n",
              "</style>\n",
              "<table border=\"1\" class=\"dataframe\">\n",
              "  <thead>\n",
              "    <tr style=\"text-align: right;\">\n",
              "      <th></th>\n",
              "      <th>id</th>\n",
              "      <th>date</th>\n",
              "      <th>username</th>\n",
              "      <th>userid</th>\n",
              "      <th>likes</th>\n",
              "      <th>view</th>\n",
              "      <th>lang</th>\n",
              "      <th>hashtags</th>\n",
              "      <th>content</th>\n",
              "    </tr>\n",
              "  </thead>\n",
              "  <tbody>\n",
              "    <tr>\n",
              "      <th>0</th>\n",
              "      <td>1632169035721736193</td>\n",
              "      <td>2023-03-04 23:59:57+00:00</td>\n",
              "      <td>WilliamsonClet</td>\n",
              "      <td>882526585500442624</td>\n",
              "      <td>0</td>\n",
              "      <td>9.0</td>\n",
              "      <td>en</td>\n",
              "      <td>None</td>\n",
              "      <td>MY SEMI DIRECT BRIEF\\n\\nA client needs a space...</td>\n",
              "    </tr>\n",
              "    <tr>\n",
              "      <th>1</th>\n",
              "      <td>1632168990444507136</td>\n",
              "      <td>2023-03-04 23:59:46+00:00</td>\n",
              "      <td>sal_definitely</td>\n",
              "      <td>1575281313774706688</td>\n",
              "      <td>3</td>\n",
              "      <td>136.0</td>\n",
              "      <td>en</td>\n",
              "      <td>None</td>\n",
              "      <td>If you want to find a bunch of happy Mexicans ...</td>\n",
              "    </tr>\n",
              "    <tr>\n",
              "      <th>2</th>\n",
              "      <td>1632168988166725632</td>\n",
              "      <td>2023-03-04 23:59:45+00:00</td>\n",
              "      <td>Lina_7B</td>\n",
              "      <td>1259502755879833602</td>\n",
              "      <td>1</td>\n",
              "      <td>638.0</td>\n",
              "      <td>en</td>\n",
              "      <td>[BLACKPINK, BLINK, BORNPINK, Airport, LISA, JE...</td>\n",
              "      <td>230305 | BLACKPINK SGBAC Airport Fashion\\n\\nWe...</td>\n",
              "    </tr>\n",
              "    <tr>\n",
              "      <th>3</th>\n",
              "      <td>1632168936996507649</td>\n",
              "      <td>2023-03-04 23:59:33+00:00</td>\n",
              "      <td>gopikrishnat68</td>\n",
              "      <td>1626901430140538880</td>\n",
              "      <td>0</td>\n",
              "      <td>22.0</td>\n",
              "      <td>en</td>\n",
              "      <td>None</td>\n",
              "      <td>Hi and hello @BLRAirport i didn't understand t...</td>\n",
              "    </tr>\n",
              "    <tr>\n",
              "      <th>4</th>\n",
              "      <td>1632168936811659264</td>\n",
              "      <td>2023-03-04 23:59:33+00:00</td>\n",
              "      <td>YPJAirport</td>\n",
              "      <td>943123769480089604</td>\n",
              "      <td>0</td>\n",
              "      <td>NaN</td>\n",
              "      <td>en</td>\n",
              "      <td>[flightaware]</td>\n",
              "      <td>Air Inuit #852 arrived at Aupaluk (YPJ) at 06:...</td>\n",
              "    </tr>\n",
              "  </tbody>\n",
              "</table>\n",
              "</div>\n",
              "      <button class=\"colab-df-convert\" onclick=\"convertToInteractive('df-ce1530e3-4ce6-4cd8-ba87-39cf89f2f31c')\"\n",
              "              title=\"Convert this dataframe to an interactive table.\"\n",
              "              style=\"display:none;\">\n",
              "        \n",
              "  <svg xmlns=\"http://www.w3.org/2000/svg\" height=\"24px\"viewBox=\"0 0 24 24\"\n",
              "       width=\"24px\">\n",
              "    <path d=\"M0 0h24v24H0V0z\" fill=\"none\"/>\n",
              "    <path d=\"M18.56 5.44l.94 2.06.94-2.06 2.06-.94-2.06-.94-.94-2.06-.94 2.06-2.06.94zm-11 1L8.5 8.5l.94-2.06 2.06-.94-2.06-.94L8.5 2.5l-.94 2.06-2.06.94zm10 10l.94 2.06.94-2.06 2.06-.94-2.06-.94-.94-2.06-.94 2.06-2.06.94z\"/><path d=\"M17.41 7.96l-1.37-1.37c-.4-.4-.92-.59-1.43-.59-.52 0-1.04.2-1.43.59L10.3 9.45l-7.72 7.72c-.78.78-.78 2.05 0 2.83L4 21.41c.39.39.9.59 1.41.59.51 0 1.02-.2 1.41-.59l7.78-7.78 2.81-2.81c.8-.78.8-2.07 0-2.86zM5.41 20L4 18.59l7.72-7.72 1.47 1.35L5.41 20z\"/>\n",
              "  </svg>\n",
              "      </button>\n",
              "      \n",
              "  <style>\n",
              "    .colab-df-container {\n",
              "      display:flex;\n",
              "      flex-wrap:wrap;\n",
              "      gap: 12px;\n",
              "    }\n",
              "\n",
              "    .colab-df-convert {\n",
              "      background-color: #E8F0FE;\n",
              "      border: none;\n",
              "      border-radius: 50%;\n",
              "      cursor: pointer;\n",
              "      display: none;\n",
              "      fill: #1967D2;\n",
              "      height: 32px;\n",
              "      padding: 0 0 0 0;\n",
              "      width: 32px;\n",
              "    }\n",
              "\n",
              "    .colab-df-convert:hover {\n",
              "      background-color: #E2EBFA;\n",
              "      box-shadow: 0px 1px 2px rgba(60, 64, 67, 0.3), 0px 1px 3px 1px rgba(60, 64, 67, 0.15);\n",
              "      fill: #174EA6;\n",
              "    }\n",
              "\n",
              "    [theme=dark] .colab-df-convert {\n",
              "      background-color: #3B4455;\n",
              "      fill: #D2E3FC;\n",
              "    }\n",
              "\n",
              "    [theme=dark] .colab-df-convert:hover {\n",
              "      background-color: #434B5C;\n",
              "      box-shadow: 0px 1px 3px 1px rgba(0, 0, 0, 0.15);\n",
              "      filter: drop-shadow(0px 1px 2px rgba(0, 0, 0, 0.3));\n",
              "      fill: #FFFFFF;\n",
              "    }\n",
              "  </style>\n",
              "\n",
              "      <script>\n",
              "        const buttonEl =\n",
              "          document.querySelector('#df-ce1530e3-4ce6-4cd8-ba87-39cf89f2f31c button.colab-df-convert');\n",
              "        buttonEl.style.display =\n",
              "          google.colab.kernel.accessAllowed ? 'block' : 'none';\n",
              "\n",
              "        async function convertToInteractive(key) {\n",
              "          const element = document.querySelector('#df-ce1530e3-4ce6-4cd8-ba87-39cf89f2f31c');\n",
              "          const dataTable =\n",
              "            await google.colab.kernel.invokeFunction('convertToInteractive',\n",
              "                                                     [key], {});\n",
              "          if (!dataTable) return;\n",
              "\n",
              "          const docLinkHtml = 'Like what you see? Visit the ' +\n",
              "            '<a target=\"_blank\" href=https://colab.research.google.com/notebooks/data_table.ipynb>data table notebook</a>'\n",
              "            + ' to learn more about interactive tables.';\n",
              "          element.innerHTML = '';\n",
              "          dataTable['output_type'] = 'display_data';\n",
              "          await google.colab.output.renderOutput(dataTable, element);\n",
              "          const docLink = document.createElement('div');\n",
              "          docLink.innerHTML = docLinkHtml;\n",
              "          element.appendChild(docLink);\n",
              "        }\n",
              "      </script>\n",
              "    </div>\n",
              "  </div>\n",
              "  "
            ]
          },
          "metadata": {},
          "execution_count": 45
        }
      ]
    },
    {
      "cell_type": "code",
      "source": [
        "df.to_csv(\"twitter.csv\")"
      ],
      "metadata": {
        "id": "eRQ1Z6V5PFOX"
      },
      "execution_count": 46,
      "outputs": []
    }
  ]
}
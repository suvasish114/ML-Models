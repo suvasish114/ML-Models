{
  "nbformat": 4,
  "nbformat_minor": 0,
  "metadata": {
    "colab": {
      "provenance": [],
      "authorship_tag": "ABX9TyODsdHRO6eU1AbNi/ZKSFQX",
      "include_colab_link": true
    },
    "kernelspec": {
      "name": "python3",
      "display_name": "Python 3"
    },
    "language_info": {
      "name": "python"
    }
  },
  "cells": [
    {
      "cell_type": "markdown",
      "metadata": {
        "id": "view-in-github",
        "colab_type": "text"
      },
      "source": [
        "<a href=\"https://colab.research.google.com/github/suvasish114/ML-Models/blob/main/SNS_scraper.ipynb\" target=\"_parent\"><img src=\"https://colab.research.google.com/assets/colab-badge.svg\" alt=\"Open In Colab\"/></a>"
      ]
    },
    {
      "cell_type": "markdown",
      "source": [
        "Scrapping twitter data"
      ],
      "metadata": {
        "id": "dRU8fGLQExWQ"
      }
    },
    {
      "cell_type": "code",
      "execution_count": null,
      "metadata": {
        "id": "vW7ewMj_EuwB"
      },
      "outputs": [],
      "source": [
        "# installing packages\n",
        "%pip install snscrape numpy pandas"
      ]
    },
    {
      "cell_type": "code",
      "source": [
        "# import libraries\n",
        "import snscrape.modules.twitter as sntwitter\n",
        "import pandas as pd"
      ],
      "metadata": {
        "id": "udxEUDZnE-Q4"
      },
      "execution_count": 42,
      "outputs": []
    },
    {
      "cell_type": "code",
      "source": [
        "# configarations\n",
        "limit = 50000\n",
        "tweets = []\n",
        "keywords = \" OR \".join([\"airport\",\"restaurant\",\"stadiums\"]).strip()\n",
        "query =  \"(\"+ keywords +\") \" +\"until:2023-03-05 since:2022-01-01 -filter:replies\""
      ],
      "metadata": {
        "id": "BnvsfRGfFOLR"
      },
      "execution_count": 43,
      "outputs": []
    },
    {
      "cell_type": "code",
      "source": [
        "# getting data\n",
        "for tweet in sntwitter.TwitterSearchScraper(query).get_items():\n",
        "  if len(tweets) == limit: break\n",
        "  tweets.append([tweet.id,\n",
        "                 tweet.date,\n",
        "                 tweet.user.username,\n",
        "                 tweet.user.id,\n",
        "                 tweet.likeCount,\n",
        "                 tweet.viewCount,\n",
        "                 tweet.lang,\n",
        "                 tweet.hashtags,\n",
        "                 tweet.rawContent])"
      ],
      "metadata": {
        "id": "EaD1fWe8Sx8r"
      },
      "execution_count": null,
      "outputs": []
    },
    {
      "cell_type": "code",
      "source": [
        "# creating dataframe\n",
        "df = pd.DataFrame(tweets, columns=['id','date','username','userid','likes','view','lang','hashtags','content'])\n",
        "df.head()"
      ],
      "metadata": {
        "id": "yhpmNvTnOjCC"
      },
      "execution_count": null,
      "outputs": []
    },
    {
      "cell_type": "code",
      "source": [
        "df.to_csv(\"twitter.csv\")"
      ],
      "metadata": {
        "id": "eRQ1Z6V5PFOX"
      },
      "execution_count": null,
      "outputs": []
    }
  ]
}

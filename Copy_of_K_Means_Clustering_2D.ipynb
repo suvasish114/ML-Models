{
  "nbformat": 4,
  "nbformat_minor": 0,
  "metadata": {
    "colab": {
      "provenance": [],
      "authorship_tag": "ABX9TyMF/CrhpE0xxOAwzuJtLm1H",
      "include_colab_link": true
    },
    "kernelspec": {
      "name": "python3",
      "display_name": "Python 3"
    },
    "language_info": {
      "name": "python"
    }
  },
  "cells": [
    {
      "cell_type": "markdown",
      "metadata": {
        "id": "view-in-github",
        "colab_type": "text"
      },
      "source": [
        "<a href=\"https://colab.research.google.com/github/suvasish114/ML-Models/blob/main/Copy_of_K_Means_Clustering_2D.ipynb\" target=\"_parent\"><img src=\"https://colab.research.google.com/assets/colab-badge.svg\" alt=\"Open In Colab\"/></a>"
      ]
    },
    {
      "cell_type": "markdown",
      "source": [
        "# K Means Clustering"
      ],
      "metadata": {
        "id": "zDfVH9TybhBJ"
      }
    },
    {
      "cell_type": "code",
      "execution_count": null,
      "metadata": {
        "id": "q5uWuZHobGaG"
      },
      "outputs": [],
      "source": [
        "# Library requirements\n",
        "%pip install numpy matplotlib pandas ipython"
      ]
    },
    {
      "cell_type": "code",
      "source": [
        "# Import libraries\n",
        "import numpy as np\n",
        "import pandas as pd\n",
        "from matplotlib import pyplot as plt\n",
        "from matplotlib.animation import FuncAnimation\n",
        "import IPython.display as dsp\n",
        "import random, math, time"
      ],
      "metadata": {
        "id": "2J-OwWO0b4bw"
      },
      "execution_count": 120,
      "outputs": []
    },
    {
      "cell_type": "code",
      "source": [
        "# Reading data from .csv file\n",
        "data = pd.read_csv(\"Shopping_CustomerData.csv\")\n",
        "# data.head()\n",
        "data.info()"
      ],
      "metadata": {
        "colab": {
          "base_uri": "https://localhost:8080/"
        },
        "id": "kCCpktd2cHfX",
        "outputId": "11f6cae3-48a7-4b4f-8a0e-b122e059081d"
      },
      "execution_count": 121,
      "outputs": [
        {
          "output_type": "stream",
          "name": "stdout",
          "text": [
            "<class 'pandas.core.frame.DataFrame'>\n",
            "RangeIndex: 200 entries, 0 to 199\n",
            "Data columns (total 8 columns):\n",
            " #   Column          Non-Null Count  Dtype  \n",
            "---  ------          --------------  -----  \n",
            " 0   CustomerID      200 non-null    int64  \n",
            " 1   CustomerGender  200 non-null    object \n",
            " 2   CustomerAge     200 non-null    int64  \n",
            " 3   CustomerCity    200 non-null    object \n",
            " 4   AnnualIncome    200 non-null    float64\n",
            " 5   CreditScore     200 non-null    int64  \n",
            " 6   SpendingScore   200 non-null    int64  \n",
            " 7   CustomerCityID  200 non-null    int64  \n",
            "dtypes: float64(1), int64(5), object(2)\n",
            "memory usage: 12.6+ KB\n"
          ]
        }
      ]
    },
    {
      "cell_type": "code",
      "source": [
        "# Check if any null values present in the dataset\n",
        "print(data.isna().any())"
      ],
      "metadata": {
        "colab": {
          "base_uri": "https://localhost:8080/"
        },
        "id": "gXgyWpk_cm_7",
        "outputId": "5a761334-b1b0-4fcc-bd0a-778e5bb87277"
      },
      "execution_count": 122,
      "outputs": [
        {
          "output_type": "stream",
          "name": "stdout",
          "text": [
            "CustomerID        False\n",
            "CustomerGender    False\n",
            "CustomerAge       False\n",
            "CustomerCity      False\n",
            "AnnualIncome      False\n",
            "CreditScore       False\n",
            "SpendingScore     False\n",
            "CustomerCityID    False\n",
            "dtype: bool\n"
          ]
        }
      ]
    },
    {
      "cell_type": "code",
      "source": [
        "# Filtering only required column from the dataset as trining data\n",
        "training_data = data[[\"AnnualIncome\", \"CreditScore\"]]\n",
        "print(training_data.info())"
      ],
      "metadata": {
        "colab": {
          "base_uri": "https://localhost:8080/"
        },
        "id": "MbaaDXtWdLwk",
        "outputId": "fca8274b-b32c-4990-e395-ca5210d6e62f"
      },
      "execution_count": 123,
      "outputs": [
        {
          "output_type": "stream",
          "name": "stdout",
          "text": [
            "<class 'pandas.core.frame.DataFrame'>\n",
            "RangeIndex: 200 entries, 0 to 199\n",
            "Data columns (total 2 columns):\n",
            " #   Column        Non-Null Count  Dtype  \n",
            "---  ------        --------------  -----  \n",
            " 0   AnnualIncome  200 non-null    float64\n",
            " 1   CreditScore   200 non-null    int64  \n",
            "dtypes: float64(1), int64(1)\n",
            "memory usage: 3.2 KB\n",
            "None\n"
          ]
        }
      ]
    },
    {
      "cell_type": "code",
      "source": [
        "# Plot data distribution in a 2D plane\n",
        "fig, ax = plt.subplots()\n",
        "x = training_data[\"AnnualIncome\"]\n",
        "y = training_data[\"CreditScore\"]\n",
        "ax.scatter(x, y)\n",
        "plt.xlabel(\"Annual Income →\")\n",
        "plt.ylabel(\"Credit Score →\")\n",
        "plt.show()"
      ],
      "metadata": {
        "colab": {
          "base_uri": "https://localhost:8080/",
          "height": 279
        },
        "id": "GVHg9f3UduPt",
        "outputId": "0251b348-1a18-4ff4-cb89-d785a4800454"
      },
      "execution_count": 124,
      "outputs": [
        {
          "output_type": "display_data",
          "data": {
            "text/plain": [
              "<Figure size 432x288 with 1 Axes>"
            ],
            "image/png": "[encoded data removed]"
          },
          "metadata": {
            "needs_background": "light"
          }
        }
      ]
    },
    {
      "cell_type": "code",
      "source": [
        "# Selecting two hypothetical centroid\n",
        "midx = int(training_data[\"AnnualIncome\"].median())\n",
        "midy = int(training_data[\"CreditScore\"].median())\n",
        "\n",
        "# choosing centroid with high risk\n",
        "centroid1 = [ random.randint(int(min(training_data[\"AnnualIncome\"])), midx),\n",
        "             random.randint(int(min(training_data[\"CreditScore\"])), midy) ]\n",
        "\n",
        "# choosing centroid with low risk\n",
        "centroid2 = [ random.randint(midx + 1, int(max(training_data[\"AnnualIncome\"]))),\n",
        "             random.randint(midy + 1, int(max(training_data[\"CreditScore\"]))) ]\n",
        "\n",
        "# printing centroids\n",
        "print(centroid1, centroid2)"
      ],
      "metadata": {
        "colab": {
          "base_uri": "https://localhost:8080/"
        },
        "id": "3PzpFjC6e4ga",
        "outputId": "1ed195b1-3fdf-4bbc-8c8c-87e1772cf786"
      },
      "execution_count": 162,
      "outputs": [
        {
          "output_type": "stream",
          "name": "stdout",
          "text": [
            "[159510, 632] [275890, 794]\n"
          ]
        }
      ]
    },
    {
      "cell_type": "code",
      "source": [
        "# Plotting\n",
        "fig, ax = plt.subplots()\n",
        "x = training_data[\"AnnualIncome\"]\n",
        "y = training_data[\"CreditScore\"]\n",
        "ax.scatter(x, y)\n",
        "ax.scatter([centroid1[0], centroid2[0]], [centroid1[1], centroid2[1]], s=[80], color='red')\n",
        "plt.xlabel(\"Annual Income →\")\n",
        "plt.ylabel(\"Credit Score →\")\n",
        "plt.show()"
      ],
      "metadata": {
        "colab": {
          "base_uri": "https://localhost:8080/",
          "height": 279
        },
        "id": "qFetb3Vuh-QX",
        "outputId": "d50aa3bc-ca1f-49fa-f09d-d3b21490c364"
      },
      "execution_count": 163,
      "outputs": [
        {
          "output_type": "display_data",
          "data": {
            "text/plain": [
              "<Figure size 432x288 with 1 Axes>"
            ],
            "image/png": "[encoded data removed]"
          },
          "metadata": {
            "needs_background": "light"
          }
        }
      ]
    },
    {
      "cell_type": "code",
      "source": [
        "# Storing datapoints in a hashmap\n",
        "# Format: {(x co-ordinate, y co-ordinate): cluster_label}\n",
        "label = [None for _ in range(len(training_data))]\n",
        "cluster_map = dict(zip(\n",
        "    zip(training_data[\"AnnualIncome\"].to_list(),\n",
        "        training_data[\"CreditScore\"].to_list()), label))"
      ],
      "metadata": {
        "id": "9TkFuw95qach"
      },
      "execution_count": 127,
      "outputs": []
    },
    {
      "cell_type": "code",
      "source": [
        "# Function: Calculate centorid point\n",
        "def calculate_centroid(points):\n",
        "  ''' Calculate centroid point of the dataset by calculating the mean value of\n",
        "  the x and y dimention '''\n",
        "  xax = []\n",
        "  yax = []\n",
        "  for point in points:\n",
        "    xax.append(point[0])\n",
        "    yax.append(point[1])\n",
        "  return [np.array(xax).mean(), np.array(yax).mean()]"
      ],
      "metadata": {
        "id": "88ToZin2irJn"
      },
      "execution_count": 128,
      "outputs": []
    },
    {
      "cell_type": "code",
      "source": [
        "# Function: Calculate euclidean distance\n",
        "def euclidean_distance(point1, point2):\n",
        "  ''' Calculating euclidean distance between two points on a 2D plane '''\n",
        "  return math.sqrt((point2[1]-point1[1])**2 + (point2[0]-point1[0])**2)"
      ],
      "metadata": {
        "id": "LRR9_q4qkBGK"
      },
      "execution_count": 129,
      "outputs": []
    },
    {
      "cell_type": "code",
      "source": [
        "# Function: K-Mean clustering\n",
        "def kmeans_clustering(cluster_map, centroid1, centroid2):\n",
        "  flag = False\n",
        "  cluster1, cluster2 = [],[]\n",
        "\n",
        "  # labeling the coordinates\n",
        "  for a in list(cluster_map.keys()):\n",
        "    if euclidean_distance(a, centroid1) < euclidean_distance(a, centroid2):\n",
        "      if cluster_map[a] != 1:\n",
        "        flag = True\n",
        "      cluster_map[a] = 1\n",
        "      cluster1.append(a)\n",
        "    else:\n",
        "      if cluster_map[a] != 2:\n",
        "        flag = True\n",
        "      cluster_map[a] = 2\n",
        "      cluster2.append(a)\n",
        "  \n",
        "  # move the centroid\n",
        "  centroid1 = calculate_centroid(cluster1)\n",
        "  centroid2 = calculate_centroid(cluster2)\n",
        "  return flag, centroid1, centroid2"
      ],
      "metadata": {
        "id": "pS7zog-kjmNb"
      },
      "execution_count": 130,
      "outputs": []
    },
    {
      "cell_type": "code",
      "source": [
        "# Function: Get clusters as list of list\n",
        "def get_clusters():\n",
        "  x1, y1, x2, y2 = [],[],[],[]\n",
        "  for a in cluster_map.keys():\n",
        "    if cluster_map[a] == 1:\n",
        "      x1.append(a[0])\n",
        "      y1.append(a[1])\n",
        "    else:\n",
        "      x2.append(a[0])\n",
        "      y2.append(a[1])\n",
        "  return [x1,y1],[x2,y2]"
      ],
      "metadata": {
        "id": "q_OwkDxaXsBw"
      },
      "execution_count": 131,
      "outputs": []
    },
    {
      "cell_type": "code",
      "source": [
        "fig, ax = plt.subplots()\n",
        "frm1 = ax.scatter([], [], color='#5DADE2')\n",
        "frm2 = ax.scatter([], [], color='#58D68D')\n",
        "frm3 = ax.scatter([centroid1[0], centroid2[0]],  [centroid1[1], centroid2[1]], s=[80], color='red')\n",
        "ax.set(xlim=[min(training_data[\"AnnualIncome\"]), max(training_data[\"AnnualIncome\"])],\n",
        "       ylim=[min(training_data[\"CreditScore\"]), max(training_data[\"CreditScore\"])])\n",
        "plt.xlabel(\"Annual Income →\")\n",
        "plt.ylabel(\"Credit Score →\")\n",
        "# plt.show()"
      ],
      "metadata": {
        "id": "jhuiyOgMaABO",
        "outputId": "8004e484-639e-439e-8654-00800c565522",
        "colab": {
          "base_uri": "https://localhost:8080/",
          "height": 297
        }
      },
      "execution_count": 164,
      "outputs": [
        {
          "output_type": "execute_result",
          "data": {
            "text/plain": [
              "Text(0, 0.5, 'Credit Score →')"
            ]
          },
          "metadata": {},
          "execution_count": 164
        },
        {
          "output_type": "display_data",
          "data": {
            "text/plain": [
              "<Figure size 432x288 with 1 Axes>"
            ],
            "image/png": "[encoded data removed]"
          },
          "metadata": {
            "needs_background": "light"
          }
        }
      ]
    },
    {
      "cell_type": "code",
      "source": [
        "# Function: animation\n",
        "c1,c2 = [[],[]], [[],[]]\n",
        "def animate(i):\n",
        "  ''' animate the canvas at each interval '''\n",
        "  global centroid1, centroid2, c1, c2\n",
        "  frm1.set_offsets(np.stack([c1[0],c1[1]]).T)\n",
        "  frm2.set_offsets(np.stack([c2[0],c2[1]]).T)\n",
        "  frm3.set_offsets(np.stack([[centroid1[0], centroid2[0]], [centroid1[1], centroid2[1]]]).T)\n",
        "  \n",
        "  # update values\n",
        "  c1,c2 = get_clusters()\n",
        "  _, centroid1, centroid2 = kmeans_clustering(cluster_map, centroid1, centroid2)\n",
        "  \n",
        "  return (frm1, frm2, frm3)"
      ],
      "metadata": {
        "id": "YsWsm4oebvQ9"
      },
      "execution_count": 146,
      "outputs": []
    },
    {
      "cell_type": "code",
      "source": [
        "ani = FuncAnimation(fig, animate, frames=10, interval=300)\n",
        "video = ani.to_html5_video()\n",
        "html = dsp.HTML(video)\n",
        "dsp.display(html)\n",
        "plt.close()"
      ],
      "metadata": {
        "id": "AChq_BeMChDu",
        "outputId": "90119fc2-6726-4eda-aafa-c608440cff14",
        "colab": {
          "base_uri": "https://localhost:8080/",
          "height": 309
        }
      },
      "execution_count": 165,
      "outputs": [
        {
          "output_type": "display_data",
          "data": {
            "text/plain": [
              "<IPython.core.display.HTML object>"
            ],
            "text/html": [
              "<video width=\"432\" height=\"288\" controls autoplay loop>\n",
              "  <source type=\"video/mp4\" src=\"data:video/mp4;base64,AAAAHGZ0eXBNNFYgAAACAGlzb21pc28yYXZjMQAAAAhmcmVlAABcQG1kYXQAAAKtBgX//6ncRem9\n",
              "5tlIt5Ys2CDZI+7veDI2NCAtIGNvcmUgMTU1IHIyOTE3IDBhODRkOTggLSBILjI2NC9NUEVHLTQg\n",
              "QVZDIGNvZGVjIC0gQ29weWxlZnQgMjAwMy0yMDE4IC0gaHR0cDovL3d3dy52aWRlb2xhbi5vcmcv\n",
              "eDI2NC5odG1sIC0gb3B0aW9uczogY2FiYWM9MSByZWY9MyBkZWJsb2NrPTE6MDowIGFuYWx5c2U9\n",
              "MHgzOjB4MTEzIG1lPWhleCBzdWJtZT03IHBzeT0xIHBzeV9yZD0xLjAwOjAuMDAgbWl4ZWRfcmVm\n",
              "PTEgbWVfcmFuZ2U9MTYgY2hyb21hX21lPTEgdHJlbGxpcz0xIDh4OGRjdD0xIGNxbT0wIGRlYWR6\n",
              "b25lPTIxLDExIGZhc3RfcHNraXA9MSBjaHJvbWFfcXBfb2Zmc2V0PS0yIHRocmVhZHM9MyBsb29r\n",
              "YWhlYWRfdGhyZWFkcz0xIHNsaWNlZF90aHJlYWRzPTAgbnI9MCBkZWNpbWF0ZT0xIGludGVybGFj\n",
              "ZWQ9MCBibHVyYXlfY29tcGF0PTAgY29uc3RyYWluZWRfaW50cmE9MCBiZnJhbWVzPTMgYl9weXJh\n",
              "bWlkPTIgYl9hZGFwdD0xIGJfYmlhcz0wIGRpcmVjdD0xIHdlaWdodGI9MSBvcGVuX2dvcD0wIHdl\n",
              "aWdodHA9MiBrZXlpbnQ9MjUwIGtleWludF9taW49MyBzY2VuZWN1dD00MCBpbnRyYV9yZWZyZXNo\n",
              "PTAgcmNfbG9va2FoZWFkPTQwIHJjPWNyZiBtYnRyZWU9MSBjcmY9MjMuMCBxY29tcD0wLjYwIHFw\n",
              "bWluPTAgcXBtYXg9NjkgcXBzdGVwPTQgaXBfcmF0aW89MS40MCBhcT0xOjEuMDAAgAAASxxliIQA\n",
              "FP/+98dPwKbo+WbLnUU9ITCK2PpIKL1Y7NAydQAAAwAARMDHEW1dy48B5gAAYcrjTZlxf+YAh1Vv\n",
              "nb4h2oBNJLj/GTv/9RpyR++y+1lpR+BLnI6K0hxeZWmu++ua9U0gq8tDL3BFj1MdW0O8e74nM9de\n",
              "QiaepJLtHsZ6sXMrheFgAnalCNXXwChw/tvOM12oaqkgJLXyj8H4ahI/8fYFxGbj6gbwbWCIwCXg\n",
              "BxpwFCEq8WUWyCY1jfMhxkvrMCQqD7zKweoiOfZwH9YoidHvIEpHZDAfvmqNO2iDEGsI6J0O4sn0\n",
              "tdnWr970E+YChEyYUFhGOOTYQfHqqV3ACJPx/72jKM7MHF/W8H3RSv62jBBMpMHSZsVrIdk7oM6N\n",
              "TrLFdlfvbjVN/nwkz7Tyxj57cp9SAKvw/kU3FwwKOOf9BrAzzdcYsXXIrchsEPvoiCRzG/zD1SIn\n",
              "jkHfcv0ZO3ueX3cAJ/k8S3gZSr117a3gOsAydNsO51sTGQDmyEQxSNYCMppnr28e9lo0XCzGbXC0\n",
              "mgDV6+60/uQdO3w+T0XMAR2/LKFZlgfTQ65YfXtxfXhVFkvV3gsf252kL4FCKHVm4UpEd6UMOW0n\n",
              "8sVGU+kWxNraeGAMwQYjWdaFtQWhvcg8U7SBq5EOERo2HA/bSxW8oNpLdbGo8T2H+BvZb/TGs/ac\n",
              "sc2r0OFI0BB86GrxuzS38DYiW0+/Z72/ZR631bU4eeQVggQ1WxwmfV6EWaR72dLNzYo/hMkNb+6C\n",
              "BomM4qhvLZXorvdIAvCY05kqh5Oxaan9yS8eOFl9NngHqDbGq/utFwP7vcFOsH3088F/773XUB6L\n",
              "WNkZOCskOI7jkB7YurHbEwjgDnFC122DyU7obB0g39V5pY0DzSb24pyyGIasGlsJjONf+vacj39M\n",
              "HjAQQOBI/Zj4xJRl+5nk2M/ceRPPmS2eBTC9EYbv2gN3INr72kPwQ3jZGJ9Ml6HL9rHPQSPWcoJL\n",
              "DAKCUEOwBIz7tBN3E5A6lmXokawXD29yNRrGfoQUA7IjBQKXypNtlVFUa38CQU0DVH/jzkhBWEOK\n",
              "7/lt3YGmy+3JN60qyO24+whcB9RIJNt/4REb3456D8VdkpMHyE2mHN2LT/sGbqlRtWq3CQCV+ZEn\n",
              "mI+qaaGSetbLb7Mp9RQScDS6Lbm/Tu1E3fhqIKJyIKgXdarE04fyV0p20oFuyeySwO5/LEEl7D/H\n",
              "A9DZ2Ru2KjJVWIvyk4mrXA9x7SzlQvPlda4zSz+mwNSYyqRnI22ZLMHx4Yf5tuzxuPGc0qJt/AjV\n",
              "qp+McXUzfxr9nP+RivDlJAOQkSCqCBoSN2yZkGwxpAiQM8afe+wzl7+iKUIgz5l8PQvzHFi0c2AN\n",
              "PMSgL/RP/hHHJgrMMUtxQXofYvGoUbvoklcBWMkT+P9ckYe03SHuHOqDYObuR+oBbU/0hVGu9mCR\n",
              "lKT4ecD6w2CUtKfzdJZN1Lo4tgI43lDPJso1Gr9gYzCO+UXktz/18/Z3Y9QQrQYbKgzwQ5QcV6+Z\n",
              "taqOR5Jp4EYvxpJHTFbRQX6tO0Sa5JUXp3dQCqHDv8mr2WKeNp78cE1WqZO4KBJtiBDzIty2L2RG\n",
              "BInrrCylG2lMMEE4LOiWKgDWZQL81PZFitWaXjgJvMaTXtNyeoXwxasgU4rQuypsvx9PcqQwX/28\n",
              "r078UYZkiCaaZMaWESDcu/cDlOUQ5pVeINFETpR3dCZH6ArT94OXibfkrVtXyGb6XJDGIueeMYGZ\n",
              "a5MWumefIU/BLDHuW/UhFg4spW8uqZmeAgW7audbppuwgQ89qMVr1rMm4UvpHyivqwcGKYY6Z38Z\n",
              "3HH5VOawVZD8LGLl3AT43gHw6WL9065ZmjeWK7nc6kNhsIONAez6czy7tn7utOe3sQBaNADzMJIX\n",
              "VxccZ4rX9/vpfAnRuvAeAsbcopx4/YgeJ2uI0iuQBt2qhYmvTcqEekWFVpMt+4wWcC8bop12zhlG\n",
              "gB3t2y0UFeC30wZ7jME/wmhUaoLcCan3EcxkOA0OBhU63NAsp78BIJrSJ3Rm6A24Ss/h7QCDDgtO\n",
              "93Bim7NZM+306w2A0OISanidmBIYGPovyJ3NpUtb/JeszCNs8kriap7ouWwnbg4LXf3klhj2fFzm\n",
              "OcsjNQKsvTKK1DPTj2imbjAfYcKRtScziH03bpez1COUuYYPITk3+CIdXU44eyb7SyglQEQx3UQY\n",
              "zEo5FusVqHRXT1JACegQ3nsEAqFkJnx4Sj+U/ytzYRlQfCbhmbnjvcd/EN3ikHSFlLuksTRUiLWM\n",
              "U+kZh9t1KUznAago1wrSYywu8DLXYwURZNf/1slk7JjYSMmlUKrN3GP9L6pjIXnlswa8nxSxAus1\n",
              "sMNXiCx8yqG/7x8Eq9DxTWcHgcuPOl288HUjohwtoSD7hgkeWfpbnil6Y1kPNbgwNZc46tq7rX20\n",
              "1VAP/Y7HQTlOV26tthd7sR+gFpOE9RT36Pxpk31Sc8kjwqUNt9GQNnmrOobYMRnoEWwlFpxlF6OX\n",
              "k0uKeJLbLtmJzPwcbExXs4kYClYLu1SoxhnlIuShxeG21q3LWyXazGWZ8ipWcHc22Q44Ujsvo1LA\n",
              "lVBTvb/44s6Lcv2aIOkYLB1UzAsohWanPMG+8e8fcKLVlpu6ilqCZwoNKiyMuv/ZA25PkWg1vBhx\n",
              "DOwhAIlHEwXPoyuxEwlNP5cAXI6H6+c3LIoOJhb6xcWJWaj7OegpYOvQ4Wtfr+SXMTB+OeSJ2tPO\n",
              "qWQcwarqSdGoEcDckwwvIC/GxFZIYG7s5s5xoCkXYi94Tw7iPJlcshALowtSDSqIsrhinI/PwuSH\n",
              "wKESkaOI60hzF21afayo83JcM5McNoF8FCavj24ZVkr/GoDBhzq6p3eSMx5S7GvueaLJfJIL4OsZ\n",
              "m/DX63yudUigN6JtYTmw0a19vsGx2goFnNIlygXfnQ+s+/GLQvv/A0etdjw+VNcJJ562FhnKeaWv\n",
              "Wwv67SsfFtZIwjmNv7LZ0b8mnhcW7RT1ksGKeeU8xf0aWYWjUwhPJIt+Rw1jQ/oSBquO1zJpmEuq\n",
              "mA4ECZUm9GUdrQc+ehEqRaJGNUZyEPZAJpE5XgtRf0YZHdYOsD4VD5Lj5o+14P0mdZzujQJx93Vo\n",
              "FgVornQ+pJimzyKlrxR+yLsU+IaVBpOZt1ah1PeXQ/zc7xyoygde8uFGTo0JvZrOumnXVNkyIPrx\n",
              "eGElNjLduGre/ob2EO0xr2wEgHdyhCCUhXwcnjCbTf8IBHz4Yztznc/wC0s5MvUaDXDW0xKEsgpo\n",
              "kJCldIWLWnSkIRCuajZxabHuZSPPXW2HbCl79T3thbssfy50Rd+Y8cRb7ebIvuS/1vigyJc7Nej6\n",
              "Tnpfc34d3vl+naPxV3G8YwWIpMhMrASH0Wa/E9NLRmrbxFpcUdB2fLBz11k5heTwugnDJ1i+zqli\n",
              "dW1l1964TtIV3zxzs0bHgqWvzH8LdN38cidYxB2j81++YcEr+3F4zMKGknNypjrjqamvyeZana2+\n",
              "6LIKovfxks8yV6EF7eMkvNcHUau+pNlcWG1nGWXCzxa6G7Rp/oFFHgFKrccFPDKTqxiZ8ZrW8enz\n",
              "AkI8tpmvMd+jsouB/39aaJcpjPbej7ygrTs+DqfebEBotmkNdNRd3pAetnwM9D6A3rsuLIEfMSpU\n",
              "3NeXm/0zAebA+L0JUKaAx1WZH99wnock8ZJSSJBotONJMxmCTyn/HmMHKfbs6joGribxMgfBntqd\n",
              "J9RmkcTlXurxub97/q3lSZ0cHQ+bb+WrwPWwkrTfzxLccpRxtDf75ayLW+YwYiD0Pb/FGD7xGbGf\n",
              "i9f7sMiPaztUPX6h4UnfV2tD7FfbQ8YQ0HjqUrk7oSKwHdO6P+o9j/LdRu6ssF33/i+IDxPz6oW5\n",
              "YtDLa2y4IgpklOBD+NkSptC1W6SvGIDW85x617aKwFXrxLXoJfXM3YwhmprbLlUj3T1o+lWJMd82\n",
              "iimkNDT3N1Gyy/AQEkYrnxzAdISWqbIR9kz2Q9T5G0MB3moOd7FRPvCkZblKyFHuElAfZhW1vsTs\n",
              "RLQDC6ApCcbIFfNGb7zfEsHd8zn58IGHRGqb/T8611l/omhZRwNWyJNUCeJdTsK/8+P7K2fyGzG8\n",
              "BQfynN/a6UHFB9Cndsf6ygEZ7OBtyzq4Xg2QqYb7wRaiFoRwxncO3GNaYDZQ1pZkL8BJuIpvCwCk\n",
              "A6OaLgSr+hjGAi8J95GqYvhrcJV5W6rfs2++3dzd9IeLED+NvdJqqnYP25cJ0v1vqu+kYw62D8Rz\n",
              "dN5nhntC5XKGRw2xJLLf36a2hwJscr8PQ2Fp6h18hlkEirgjwwPIs259LdgRfesseMHyKnIVUUy3\n",
              "4kyoi667qCCVvLHruUW9wvQiXDxosY7OMcUfwY1jgRttHCa94aMtPnDH681EZNruk3gokcCdIgVv\n",
              "bGk+tPTSqeA+Tml/H/TJ13m9Erf8GaVnPwf9hw3ag5nlbDiS+DIB8BBNuSwkqrBRPy7Uqgi1arJZ\n",
              "qN7OIR75W6sgaGfP04P9NXFJKACYb2TTFpONLOAIYAeEI6dl86mwKhOIffknpoV4IF/BuqDzdvzF\n",
              "SsqNFNMHeTBfi25ipG8p7PxXa0d/OdEZewOeXia3j4ugDxeStq4zAU2ksorCcEkwMhaDykjpSjwQ\n",
              "OxV6AGKS7F+IcUv3l5mfsPzsXHBfYr8ClxJZ0QGWuPtUjlG5CpNCfAkIDGB0Ig9qTqKT2Sczty4B\n",
              "34XeR2HmAsGVcO4vzI2NltqV68hjsR5G11FExbzwpF/xVX1aq8huJ6prW/TdcVWofF2W7Ps/TX/y\n",
              "vMptHWRIz3GMiQ5y3+pNDdHF7z/zHalsOGWS2sppy9uTxVAKejRLiyWva6eOBTlyrTZERJ2iLsHZ\n",
              "9JiByiV3okO3oQ26cljW7qN2J4zzywNkp197bSX1W0EvKWHRx68Onm02l7O9MEpJuWd652pFCj6x\n",
              "TQ5ZwWRZwnv54J4Cj+5ZxsfSONqgEk8QS7qg32kL4ZAdkvYZMJfewCeTiEAeIoEfMOSgpDgCeuZz\n",
              "lnJmgeANGIxXzJFZQeGCFNXnG2Nn3dBhUwplsRa+yS2rvOmF+LyEcWuFWz49V9Mllk44s6hfmIXj\n",
              "5LU8oS37AqneQ0xmz+GxXdeuS2rwPDttbG07H8MYEark73ASChGq1E6eQG4WMIojtAYk35r1c7n1\n",
              "KMPRjpJNXOPkDbKVLIZj3Rse/7WMgKPsN3w89VeBk6RDSD9VFHuZxv/OuRnM8MKj3BBilt8t2CZ1\n",
              "fd35CmWPx4n0q1XgGKlMXXSFXth84LfHomgjQkN6+c7h8tM/PiRF5/ILXI/Zm8k/15Bwf1VcDlAd\n",
              "y2o4od+n4q/yAun+Phu86lKnzHai3frWwOZEADCV0uCmoXw955ZdXZwflPNQE6lI4DvB0zFfZ81j\n",
              "0bt4TRW5CYduxxzl3mXxSWj/xtwgwkLYCOaSTj6OhmNLCNqgnIwN2+PdiJvXdCaHui1bnFcowu3O\n",
              "ma21PHmY+i/lXQBte0cexXF/Xn+6wK/EkmAh/YMpOtNlUJIAfjTgUBP+OGioJz8EWgaQO220kqrJ\n",
              "6VLPDoD/v7xbMv0DhrDK+tTPahvXuU9EVEPOjpUl2wEHJMpIBIjdG4G0kekauWlaS/MJ+m62gTL3\n",
              "WDWNM+9yujBtsxjsS6pTZpWBzd7XDgtc9+3K6d9NVw9kdhOu9tZ+YInxrk18XNGRo7AgsGuXSp0A\n",
              "gmgSwuceLbY4YwXmSzV7SWhdTB+WFi4Bd0TzCY6aVAJWutRKmAUAV8YRrkegW9RqeRwG8ZqNoCvg\n",
              "dI9FFsOzhZaDW7aM/UbcxsqK2ePwSSAU19kopoc+pZCxO4++GpDSxJTF7mXUAm8xeid8fo1Cg7RA\n",
              "I+S1xB7KwINaxUInKkDBMyAjWJLVlg5J+eCmMs0hacQ/9IbrYwkHP1G78HKwcaA8apHX5ANiZxNU\n",
              "hB6FV15Qkw25x4s9KkjvMD09JCTP7eXpw2o83xlUGn99b844cfmbcFVgnq/cbUsDaQaAC+SR61qX\n",
              "Q910LcRn5diuWENdeuX/rxHzbkUuXnQMHrGRMnR8LUwc8seaExdv8NxQ8wT3J/nEIh9tvZrrFNKN\n",
              "/iQ99B8XTW35GLNMmi8hZQDNZZOnJCkogmRZ+KzLZfrkX9kGJ60r00rnWqQttiU+pcyMz67a+Jmm\n",
              "4UGCoQi2b3CPgiyXFM0UOv0oRk+lxJOX1CtjeNmoLKAGXzWwZFisL1Jo2LkD0C7007a+74+T/ZM9\n",
              "A2jUL8nxFW02JeOkd3gdnntlpRJiqm4QvxTxY+6gPu0eb0HiU+0SD6CR/rx93jBMrh30RyMcnoIa\n",
              "Rklz0BITqu7bQJrHu+FDIeald2tsqN9yOsndSi5U9DbPGs12Dv3bbpBoRjS65di1h5lb1P0hAA19\n",
              "hWjtI7OYv7uqb2TqMGMgsvVKd53CVhj8NEfJ5tgeC1ynXo29OFGluUgv21bcRjuln6aAbZl5q+wl\n",
              "Ke+oBX5+q8HwpnzRPPe6+dl1DFkUqZSMhzYTBDD4NZNMEVlP3TdaOusxe22OfnxursmxsBV1dqVP\n",
              "0MdsC9qqL7/sKyISZcgA7kc3gvBS8jKCXC6ykpdWAivVDV3ZUNWYJvehngKvb/uFqKv9Dojb1NqQ\n",
              "jI+tmyl3ybd2B3yXkwMgPxOGsOj20/l/AE64xv/geqAjF9ASAa5j4BKxbZfVaVJaD4KK3+Al+3/i\n",
              "DtqUNE64wTGuEG4K96jIBVZQfYjgGF86veaq4ANMqvsyAjJo3s41JU2WEH2nZEbaH/+J10TVSN+m\n",
              "iCiiaraZgGjw1eTTtO8rhtNqgQ78WyqMnnU0VfNGCLUDul1JyEI7TBezP7MgQPVIhd1KrzH8E2vj\n",
              "nvfC6YOnToEZysvVtwvrmEp40PQKJ1khIBiJZy6ZlVt0D6zzvh3QyTtVUKkIdDl51KKFB1jPoyl4\n",
              "72WRVWK1xX70pbiU1eSSR87eOJixhz5o5xhxAEYEV9BN71aUrgvddqjPCbvGKgG/g1nIMM4X9eOV\n",
              "y+qn3Ufti6e3aKPzURcgR4n+H0rJYalF4mHs6hNEh8HxdmFTEPi7PQ+toZvfjlzeJzTZaW+dD+Xy\n",
              "AdupjFqSze1Efmktueij1fuaZtkDZ7kSP4iBjFu7Bkk+Bss32LZsHRghfwJaMnHiyCpW03dBe+cn\n",
              "v51m540WH5WA3PmsgrqfkIF68JIhyFl9aqE6v7yNGwgsgeK5ad9UViTXlRwf4viFOq3ds82bA1AR\n",
              "EotqGB7ILvAHMOyDenZThjEmBNWzU+/UBNNtM79WW7+RsFove7i79yLFGp0oJh7W0qIzvR7OZ6tr\n",
              "vGQga1F9kphDpi/IKWM8P9fwlslBnCNpHKWEL8oQOKbPFaX2X8HeFgiEfRd1EQH0mZi+mktW/bGs\n",
              "NvpVUfemPIXySWjeu2qvhZDLoBy33j280SQ+OfcRuAo1k84mB5xDQt5+XFMfp8W5SPMKRw0fKLfo\n",
              "pX+/LoewBGp9qRqcUavFomKWgsKDuHiBlt+i5pYHg0LTXGYuBQdvZx1ZlvK+2DwR29qveL6ZUIlx\n",
              "6rPbXa1X+0fELOSYzVs5ya/8aehv76w5cX54lICGrYldGJ77SihMbgA4RndmqjqUa94uoOspE5f4\n",
              "kfQC1X18dWpdo6+jV7qZ3o6Owy871ag7fJEdB6uivcW33CD5C945KR+6FFhQccaFbPaAhWYrTk4f\n",
              "DHu+GqMLjNoJDO6TYxf587L/R2W5nizzmVr5kj2gjUnsNzVznLqx0MCO8zTqGjIPhcSJDdbtvPRL\n",
              "ABy/TegbXM/XK+xpEUViB5PHD41GLPp3gpRQuZPVFo0w+59SNakyYJv/sV/c3/wfj+EyGbJbzawy\n",
              "uzqCYoN7qU+AEnHM2PklmcQcM2beBVDwDbKY9Pd7EKvebtyuNrb0vq52zlJCMds8Q4OG8Z8iAx8V\n",
              "vS6cfdvY+9JJCd20nOjaJZRr/W6tbrlNh92tNPh6OMwLcyPNKNQYkbvRpR5a3Sxy9iU5ui+gKEPv\n",
              "fh/I+9b69oT7pcTaE9YtSnBWNJoZvTBncV/QTVNpgwwmhRdBYlT+mpstTXxdVvQyKWsTPV1xUE5s\n",
              "37FoXmtHW+0gggAD7FjJh17a1Xa2iY9/jxcT1MmG+9ICxLTVoDqCfKoAssdbAfsOC83wX8fbiRxH\n",
              "QgHDBPxFA9j1hxZNLC+8pD3QrjZPl33DHtFKL4CW95VGWBYPgGzBRewKN55Ruuc5c25nAGo0Zlhc\n",
              "0Rc+gCYmjE3EzyKRFLjgBvSfJSItvRFu5PCFhnIaSGKVvUfuVVAEZapSZ53HJexmb5E0sKo1clF8\n",
              "gwN1jpp8uIwuXZcGFEGdlkEXmpTzKcF0ezdUsy6Yf9n467+GlVEuTSuNnsvCfjKliwL9kR8xk+Ay\n",
              "OwIeCUWGlLOE5M+6Jmrn7B2Gs6DYIvoMoQQCfZlNj0Dqra9brXzOeUt2E8EAGa3nkR8Nlsf5jIBU\n",
              "3LMvVvQ0hn3bxd8+UpvlzIBzO+sQDzqd68I9jlAktAkDGBA96cxWBNYiYzAozkKoBWzsB1DmJ2AD\n",
              "5lN4ZTUUAoXnHybQjR0/cKY4b0XcbYynTMaA+KrJ0vtfxyJhBjCBzh5JvDoEi/Zu8gcWAlVjXwYI\n",
              "MVZucxdzXLttCYkERwykFBDacuFRUuFRxDMTR2KUCmIArWUoVk5Q3dAYE8lUF0BaZsW3Vxqpulpj\n",
              "sbSuP93GJFAP5kGh5g2EZ4gAUh8r3l/lGvpM4HgjVddxTsrU1W3D3D7YJ+8raJuJWhsJKdTxXLfO\n",
              "YrIt9JnH/j/gbQb/r70OnVVdyvy7wRVns6gRw/64+vIKvC9HjUKtzQi4KgKX2N06YwBstBVnFdyF\n",
              "SwzKgcwqWFIq3GhZPyZ9G5B0FKyP1s4EEOt3tKNo7icWj8hjlkE/J6Gtvaf6NKhXz+h7Zz8SlzMO\n",
              "qWJc1wmzYasbDq3GKZqBSdMF1EmMMYq/Rykazd+aq5pPKdnn0TZLLz34ux1VJ5Vk6QtUIL/5C5GM\n",
              "YwJXkGNPuGi8TnesKQ/bXWWUYVnLL/2Oz3wsVdAODUvGbLPFT+GrzHLf1rdz23AaLPIG3qIUbgbz\n",
              "A3AloXGeGaFS03z3DfHqmZn9i5U4hQU3NWAm2cz+LGzCCkwfVwGx6yEhL2bXM19mFc+0I8j75ijw\n",
              "8eAkyOppEP+5FgC8zh4z4InpT2IBJ7j4rvwSWpqFTjyVimtLhu59L+v4C/Y1P8TLLGmIvicVA9oW\n",
              "gms4LjvO1VCXDIs9qDdXzCK5aN1nOBZQpDcYjkhQkx9w5OTQNn4Uz/jlpoh3qspNi5Pm9emMh8LJ\n",
              "s266kVzgk5BWR5F8DIBXh4gATElwXBPyIRyzxGIYD/Msct4x8UkhJViHjML0dIhFcEqWz7O65wcI\n",
              "zhunV4NEAGt8uvLI6f6YjqLu+c8uP0n67kwww109d5EPDL5iINYLNLUDb+xHr3LCfVP7lDOYb9VS\n",
              "BVe/JfZCf87VBKnw9y9gMNxbH6+u17gqcRlqIkon3AndiOqwqSL8MKHjKUi8+5dCY+KP3rra/rmT\n",
              "lWyFb5h85sMTBW1phwpVqeR6LCI8Z5zUclp/WX77JFt/wvJTSyUQ3vwexDeITUqf8dbpu7iy2HvR\n",
              "O80wYbxmcmUan6Vqa+c+MR71H+s4xX2zfB/rr3NIu0V/h1VWalnbfnw/OX1sSMvJ3gZlcvFOXBuf\n",
              "CfcSzn4w2T3FdUYlmLq2AGlzKwjAlp6d2qpDV6ZS6Z0539K5osJk5wN6+Y/O9FGTiXXRmpWvWma1\n",
              "JHkTeKGC/xhzhlvB948+5Y5hMCtCLuPmjvNyxcah/JWY9+nanHtcbaXJjW2BLbmB7A2/ImdLuC8w\n",
              "+EM+mvmp6oDmI4VtX2fI7m0IDBEWSxIQ21FrbM2/G9C6zj7m1sNGGA6x1xu02rcS4JrfMWflOf4N\n",
              "ONNpsxgLap5sP3JtTrxS8EkkrjGdIrr4D5fPZB4lhAHqpcM3jts/GDyWxgwvDf26pAGeMGvTDrRR\n",
              "uXiC3Ck71NJ6wti+GZpGBXBnLblJ92H35yfFDzykGIJu77O3XMn+1zehUq//UaN0Trom+ra/wcbp\n",
              "gp5/Ul1yS6K1EmOl2lNm4MeZevSCk0ya12Fv7hZ7NAUBDELYcdlie8vgLri31FF48mVHg9hzymU0\n",
              "tMBRcfUHMBk+tsEpSONArfSezwnB8ty+0ZiROoZoeP6x8dWmQq3uZa1gd8JV/kMWIj73yN7Zf8EE\n",
              "PP9FKXwx614D3X2N8WhldRt8h3PGM5clLHTavwksoiEbq/rykYBFz/w46N3uQm+hHIpLyFDe9fCu\n",
              "8mJ2XLxu42rZJfO624FqVgdWXV0C04DwYLpzHRZYuM4ZtgEDCReeN0UFhn0JPAx8BNB1zh8C637G\n",
              "kq5EOgVhGbCtvCxKghqEt8z0/KPt0VozGe/p7uvjNLRuTPUvCnDPyw8aFmbmXy+9hpwzw4U21d5g\n",
              "VkeKvO8KvjY7VO5S66mEQm3VLlS31sOLgR7tEzQg3t61UiqO4/7fIXmcu+nGwHrasHpJX/kn5TSS\n",
              "Q8sNLHhx/kbnjP6I/ijWrg0p4hTyXz46tX9S77jXBBW2gQenTRYAnSKezYAfywjB5KPsgxCMQvhB\n",
              "zmX1qp0zk2qQMGoz1CghCr1wlM2mrQGbsdHgrT+xvOSq0f9yy0l08/WTvSxh7OJbluxH1gqH7ezS\n",
              "sfHJozZ0eSaXqDPZcgP6fcEuKMuZIqNLsemutDP8U5nwzhk7L016L+ZHrwKvZSx5hA5qhXbW66eE\n",
              "PKsQNcaM1caCwOP8zDJgOUkfhGU16FseXWedOoERsu4bQ/J3uXLORWGDwT3ITYM39M4Zqxamj+yE\n",
              "zfF4I8Y8jCtk41jTglgfBwTZGTlieZM6JTQkuhrs09nAERjKj10k5zybZCnldqca2pt8OT82vzMA\n",
              "ap3ba3PXqzovniQHrQtcFUxecaFIeTkoHvy+JvzwduloYQF6IccDutR67+lc9LQTpD/jHPPcSKtI\n",
              "GF/pt16boF7zCV5IsgFkBjEm0uGAq3hUk5X9tyR+mtsm6L9LutJbtQ2llZ1UFMe76fUpy6Jh0J3L\n",
              "zlHISVBm/gLwE7mFSrs6J36kFJ+Uhfjhm6bMBOeHEbnUy67Z+UT+yn7STdBkc+F4d+jwDiNwQP1b\n",
              "iLveNtT6QlJLucrC/Z94WoUt9CcGSIU9ZEz9LrXSy6S1en2tCH846lk9Kc5FnSaDBqi3S1rTPzPn\n",
              "khPnLd7i/70oUQmRjFq/Gu0tsUnhRwnBetzHTxR/8tDpQpnEC22MzrAcSZZvoj2/yy5iZLBnUX8Z\n",
              "8jNjROVKw2v6DkIj6TarN6e8bPVXIM+iypcAtN6646CcK78tWZDfXHYOuWfjlwDzVPXwKz8JZAiq\n",
              "VzORTazm3VhfhwTDQCJDtVTCF1MlftwaEJZI/Z4hLg/HyoLeGP197w7O1o5btB5eosZYCPakKlhC\n",
              "6L8YdLCLGWGvACNTDqMg4aWMKOmAm5n1VBxOIOmuWdiG5X8W3i1AkP+bufyY4aq0Xa1+cXzeXRTF\n",
              "ksF248oK0noclPs0IMlZPmY4rVgYKkcTgMljFCXEKiNmfadMFOkC/Zvzo1icavZe1l8iqpaIFdZy\n",
              "w3Wn3IkufAUPFSl8M7nC6tHrYN9XBT89VKNR70ZOVMrP+gmukA4ePU8ikpV19U40zIF2Z7XjKB4U\n",
              "Qg8qyHErq0lUjw+acbK1SShP5vFF7ozzDygHrUQ8tfVYr+MfZ6f8iLalsFYVtWh90iXODFGW0dxI\n",
              "XOpMdCLw6wsVjJN/WwMe/4mEYrFMmfEa6KGV6HkM3RsblfZEupdTj85gYO53w2PnVCBLet690GBW\n",
              "OlIR+LK/I1VEnUEfwJwQzwhFGX/fhzc0wZlnDPhhKJIs3z4kRmYvoNP5HIE3j9lj1tuwOSFISqRK\n",
              "YhWx55FJv68Zc12cT5oYy+0TGtQUEQlj01mCaHX0V4YpizaG0L5aqX+elKHBlrHwRSX/X8MpuCVw\n",
              "1LaI1PPgomNLHm/j/iBXrhWD4BtwRXu5DZ4mEeOtcRSY2BUiXg/hpbd8yppzGTYqwUXjl/O5gE/O\n",
              "KhGVlnVoZ0QdDsDEdyZPjdmA+pjg7atxjfAJScNm5lr0XcDi7SfR6DwOBD2+EXE7+5dguUjfdNBu\n",
              "X3bwmJYCDHYSKvm6FOSj/xf/YROBSpJmEBq6BPM66h1Yu9DNs+Jq4IItI8rlvPw1y4nKY08ZqkaQ\n",
              "oeyR7R1PyfuQUxdZlnhPEUifs2jUksTXsyYxUYRUcPUlvbEsa7CilazxCFgWHNaa7vCBzZjzA76s\n",
              "0vMgWVdsXDBqiumi+RHN2AiwcfgkoRkaU7cT7XIiZkrpSsd8AodGFRR/oLW2MtqbQxgj9Pjqoh1T\n",
              "kJtNvO45RjwlyYaxGPH+8u/1YTvVUJohfTfjbOQ5/00JL63V4pUHVheFqPNxuTioldDaxt3tMfxP\n",
              "zHCPKhXkR4KxQZavzmmxeBMC5+rQtJL6d+dxTuBy2X80B3jvYsWOony1+ZjHq2r6iAqqP4qEbszO\n",
              "yIxRAU8lbp+ngj/PIu3PGdRpDqGhzFKa3ghQ5OWathIYcO71B0gD+uXyevgbaATOz24IMGiVS7cZ\n",
              "70AzGaGZBaOUlzhqxikvSYqLrin2e40boze+0JEFmvNDTAfpChUxI/IAOlENTqUBXkGYchlfcGCB\n",
              "HZUcrcz0HKPczAHyH16vqYVabuyrxE+uIS/IqB3yVDkWpVZp0f//VdT0jP/8ECb2jjBDnWtBnKLc\n",
              "MdMqSqWtkqJl4O/aeXFpJ6aXwHiq4RoFdewkHnjcSXNh2Iz+TjZTWgWBUjd+LmZFaOXr8JhTPajs\n",
              "qGgUes5lRPYWiNgkAQpn0WhEBgXVfnuoB21DJJq6cVg7YqNIF0mCxO6ulfyt/K5lflx2R64eUsLS\n",
              "AmuJPT26qLsyaktNmmoUpp6LyBKCTKOL2ONNKCzTeJLDdVSmMFAQ8PemLs5uaTo/YlVHA+5TRsXv\n",
              "ZvrR7G4Xr+JZoEPfPkxFf4j9r1DuhzZIt9lykrCBBhXyePXdPAP3VQTsBOKbWP8PT1pcf7rZkOyh\n",
              "o/TgWy8JWepHgAvVojO3xyfBKsjq1B6Bxc8ynRDK//FKWnZpIKBTROI02nstA6zxJ1b2yRtz2jB/\n",
              "B90kSWdFrVfN7hf9DkNMXX2sBhwe5KMckkAI1997tSPOsVDzEkX3YBhUJOCW8+8rmZdqjz5fvI0N\n",
              "3mZBnzsCGK3HXKRCBI0nIy/mQdqiLLs1T9mzxcpHq22vRUIG14R9XpKSMoGMHpJzHLir7YmFyaQo\n",
              "XBMQ4udA+miuERp7booDsD1T1QpxC9cCxEUU1xnsAAfp/99tfP//JUxxtEG+ErdQ9pXC+rf4YLXT\n",
              "v91ys9cuSkw3knGKsMQ20RbdMTtIuefF5sPAzkMpP9Xrt+ia617/clZYV8MswG8krIQLqolxsCnS\n",
              "1toZRtgMiXEiddgBhgO5SJHr9fMLc6i1U0zdKMHFCnyHDLh47SJXRDNeufpSgorvFLurztCb67tu\n",
              "Ol1Lptgg8VlnCndCl8xT1RWyrmC/QsaIHCFRHfNdTPrQuKaU/BaGYdcqZtzNIKQd0zEg+ZD5URp3\n",
              "N3QhERs2kp2ERFb0bqJ0IeBSl1qO5Dnvisw693FZNHSh9IRRTYr6EZfJeCkJB7zbv5xBx8DH7+3Y\n",
              "IVuGDq5ejyptcxSTZYJt/j61+17pYjyFB3PRpE7Ft9q4aUgMpTroL2ac++FJmDhBc0QpwTgGzdUk\n",
              "/raUYUZwC253HtFdv8IEt5eOymN57c5/toAjut/fZjPwLCuxFsec2pEJddawW3d9tg1vAw96KJAp\n",
              "SCUG0kmW661jkepURd3UwuEE2v+gkI2roYpH5V0704qDF9PIyzL5N+DOXonu0QvWTdyTtVPpt+aa\n",
              "fhSSkZAGvflvy49j0Ry/Lh5mBDwEQcE6gfIa2M/C4ZS4eV6l3aZBTG0T/NSP0JkD7mZzBc2JQBEp\n",
              "U28XJWE0VGzo7K+A4ktpiKCLN53Jh4XRGmGl8TmH7e9CQw4XkneX4Ti59rhMI28s+n+OOPGqy4Bp\n",
              "dIhabXeulCjnAxFB9KDwPOPNl7k41uQADby+3kv3dz90iuFVITODHiq8nk3vZNm58NbLoj8hq7xm\n",
              "9Z2xrb/JYFeD4xz0rKTUGt2iqCyRB9dAQrHwIP4eppKjrCjEg/NBK6AkpqMSrmFy9CGC1rXa/hFI\n",
              "rspMtN8PCZhIxwL+2PT+fwvyXWr3BC0r4O422tIgF1K2xlF2Ev7yX9Oygu93/PRX7da/FOtRD3nn\n",
              "tReCbQ5ptlKCV/PCdSDVTvom+M42StRLeutUQbtXUT8srZSdl/4L//sLHK565GW48ZqVzg4jx+HH\n",
              "qtoDE5dVoqHZa5yv9yvokWtypxhmBbUnImCl2AS/ixTj4cU3oEEka9luWZCPpCAlk1dQnIFre7qz\n",
              "y8b/ZOvC7c4PC9J39MEdBAu0e9NWKh2DybtlvxEH4+5RDlwAoOE42s9yDCVlsLVmazCEP9/xDz3z\n",
              "62FzgLo1qcy0K8yArNsDQZKb1xOzHEulJK5ljGbEtd51EoUUw+BwHUlVxhScCKMgv9TW9ZxuTEod\n",
              "t7sJV3CLRoe4N+8p/Blo/dLcsuU7es5L3KwuLN5oIZzTUeoxJVdmUHQsaa1L8hevFWgXoIJyqpwZ\n",
              "PthtMoEv2JTj+rnuHENDxyyPMil8pzRPacm2nTILfQX2lAAMkNndo4fW8zvNjvWR8K35wrrxcvj5\n",
              "MACS4BYTEHCcCJ8QPKsj8yZ/7IOCRyzhUtrpA8bnqxdBBfRo/GuxB+Ti1rBRh75xWrOe27+f7qOG\n",
              "iFC3EY5skfzalTX3BYDjA/SZbZCZDvETCTXnxPWuTNuYuZckumAEW6vdITi9dxRBF+TnAiw4iUlB\n",
              "03iY8axxddzL3GK839e7MQ2AQc1a+UXiMfDACP7d0schiWz3f0ixPvbScfKqpjJjGQX8bExMfNRU\n",
              "zf6jL9GchO3M5EaHXOzRq3AJd1otesoLnZCp6Z18Ohwos/vvesmR7wtKiA28r7oycTkBYsFwWxQp\n",
              "STTnr4cfZAl+uX32tC2rwSnnkY8fm/aIut/ggQSfwnfdzqtsO+AVW7qlR24DVTSsetFML4pusnWk\n",
              "MyhegEk2Utw193RUrI9jjiLT6aj2q0ZzTukf42ujg9FN8chzoOXVWIgYErzi3RwCAKVyG9YDHAyp\n",
              "yRD7NJowlSM84k9yOxH4gkj16NNrxMkLrhPKrGe8VfUG4snJiqbY6rIBvDJAS/aTMnJ4/vmQqLBZ\n",
              "rkf1zGmeLMSD+yYM0FtqdGxuUuZINR37E4l5KhUVH0JywCQFrKAyiIRReYThU2n+Jfes+pXJoJt9\n",
              "sI+JyWFXsiG9WxW0Ktjm2gn6AyC+RAyM4I6S4wRArW2cmBfjWeukUNgNGWtSri2x3bTOu7/HTxyY\n",
              "UChm+MMtMUFlkHS+yKn4s24u8sQvcAqkjm2dYc4O0aEdTrMupf6X6AeuIusk9GSTHV7cZ6Ixh6Dy\n",
              "n/V2gAb9Kww4UtloaE3ichpc8DsahAItaotJ8Q1GeN8v4ODYGJwTVud5H3W2MFpxJ7v8AXEGvrKp\n",
              "tMWexAGINE8L3xK6ZW1/xPsgnQVWs6KbfRh28HuCsOro3HRQFs4ZT56hjVCVFjx3ilSGVRwt6b0u\n",
              "6kr3fsXbgDjLND8235z6iQajFFBOBQjrkBtJpbf5HSfRmsHlbgMWogJTl5snyP/V88fSq/0Qsr/I\n",
              "Cvnd7ipIjgw7PRM7emH8b4kH0O9pBgRRxGrF1LKIWXsqo1kB/3wJo96TOuiNFJyGRa1/00SXizNn\n",
              "qYnVb+JixVdzAj2pTWCUUwKgIWy/cc/NPsa6oLNvT6nGkQr9IChdUU+aql6BCGkL8k7hABMueLVp\n",
              "/snxK0cMsXvXr261w62gMicJoYTjjarsuxsy/yH7osGxeb4pc73szhb/Nd41D/flJaZzuA1ylLr0\n",
              "1BChsZzMpiDTx7Z9AgST9LxEJD/uQ7RTTBxTKl8jpgQXUQKUS3kwHdqZkuE0DeEVAkxjXoiE4NM9\n",
              "LsfElEUFwJipFyMaBU0yVH+LzEDCYbfkraOeQ9DUXDOF5jjvSy8bNnwOqkE9Sjn5CsLZKinsfMQW\n",
              "vUCKUgDJy5rv0cmuH2bBlXVS6T30cXFewxH29BErGrdoF2FUSodBkA1Wojqs1uk1CBJSl9AMGmta\n",
              "bfqAw+5hxuGUCF8vqWriaRSbuIhAVSF4EcJcEBaKG+3MNouGnLTi8FnMp4wA/RgURJI8hXjniLzG\n",
              "sQ3yvexR39QwBj1hYyZCqyDhYp73Kek5/DywMh6IQev9jGCkwnq/jh4glSbOnfuWjGlHdNpOoAuY\n",
              "JWa17IN2wZVj9xr9OSnvlgMcuKieHUwWU77qR48EFrozafTR4X/uGDZ25BktZ0Y0kb7Pf/xiAKTH\n",
              "FQ2A6E8rbP23E0CqynLfBxlMLh4FFIac9RncRUeihnD8lh/bUFikEio4yRDcs1hg/Cp0gr88Nr/E\n",
              "YbglRbm7vd0JluVw0clydTMdzX0Bj2dDsLw7Ifm+ZzsPCa2WdFD6mX03wnY0oCEN02+E1ZCPLkbH\n",
              "NbdLtIj2kJ32l326nRkSuSUyemw/oRrFuesJ7BDux9rqAcSFTMwCzmZsNw3NmudB9UUR7EX6y2qn\n",
              "0UWgSixi5JxkJ9h1ob6Q/7VQw6skut3aOj4lmb6ssgoYEM94huzoY+NdeZ6S1ORK66gTJ5R8thO3\n",
              "t4HqOxiloT4s/N3Emhodkrk1/zocViMdM08+piEW88bWm5ESnZQZtMYszPyk3nLTmk7UNTEhrwcj\n",
              "HzwrM4n7Kywi/8GMhWHlX633DcVt8/DTt1HFNurGUyfn1/8BvJ7sFugT+2EBy/prigfkOnVdkJyT\n",
              "NWEZb8TNWnHcMZ1oeL0dRcz3nz+f1x/vyjVS3e1r8Wp/jV6JLreZDnDqEyEYHNv+7zZnpw8TaG2V\n",
              "D8JmUEe1mtPeHXxqzpgrc2dqC9RC3/vf6wbW//Cn2ZTOcVlviVdLRnfOsepJmELZL6KbBPAEtzEj\n",
              "f3dIaRAC5kAEFUK3J2fYvjTWi7QjIWDJhN3JDl0DP7If9s+GQu79G+2d3NVB/2/Y0qjm9+Uc9sWT\n",
              "wDwIzlTMxf9IoJcj5KoU/NDa2OlT/m6QATHlF+IV2iFcDuVIM9nHK/mUkdUTO2KWfqkHDNTulWBO\n",
              "G7A5IX3yLfU9AEB2QREIfS+WFJX1TNNtyGAHCKfQmfRvUqij32uxiGm+5+RxXy5opn96V8obCgwJ\n",
              "OS4xdX3qI9cj5DLuOeXFX+FtSP3ng7rK9jDLpFU9q9SV9TitDwKqjZFhG/rzoL4cawdRlCXa/wI4\n",
              "yE3ZibktwHLGMJqpxzxaYXFBW7X0IQYSaYVaSYGAmnVUerdYejoEkYXf+DLa6yyPucFEqT85OQg4\n",
              "WxaHTmYfmAw++Av/lbr/i81c8+EqSXmLCw83E0yENrIbWy1858Ep4Y1XC3bSX99avxIILZanPNTL\n",
              "DcPb6pz5fI+PQkn+RQf0VURmir57WfOjPS6NdY/ParzYJlxcYUrr7ab4EGdGzIXz/JUoYaXsu1h9\n",
              "2G54CzrARmqiffKyIQlHtJM6NHCvkflUYfz7Ont96O6tgyYJU+Hc8BvgMTFP5QYvZR/4wO4mZd59\n",
              "lC3X3arfGiobcvHtNlEL+8wbTHhfZChtI5dxav5XzjDjT/XWZff1yPwrkWBFAn1Hg1rhhNPIo/2B\n",
              "SE5K/NAsKaqet7jP6+sKjqH9jAIqF4N+a7hWhVhKPIwgh/Hhaihd4/Uc2y0oJB1BTE3p4dBaKGmx\n",
              "kHBhVrs2xVvAfVU6mjnT/oW9xn8eQLPxlViGCJZLIKQV4JUm7XVDyOHC3MmnPjDU/CoXGkrqP6/3\n",
              "BfCfxLKy2D5ml5unCiMaYuHGZ1CCJijf4V8OHMVvRgjnMJjNMI/vdh6Ja4U9u2lHgTHnb3HCiU9e\n",
              "WD/GjAUAi8iH2v1tEPaqF8aL8xLUC8+q4MjAbACjx5QfF2/TJU+Nw4ViZpcyWNd68O3DTvpb/E16\n",
              "UV42EbSIDsJuLOyjQXCGbLAxB04feywnN7NbQIYoae7JobIxDGorTWQNiV9jXXZNzE8M6x9gaPgS\n",
              "i5uYc+iRm1J8XaTROpKVuWtlp5Ki4hiQBfTXfdQU/aF8BWye04yteSyhRZv5T7kAtHc2eMjPwzV9\n",
              "+YyLfqc2rjMZKH0/tJzxuvwvcI/4cIOtxueNuF3k3KQj/nZxsKj0nw7nFZ3Ty8n7d0DDUUzuUUuF\n",
              "epXTfqaDAM6y1VMtmyWrWIkJhVrNuiklJJ4KR/zouKfaLhEUfWVS4lc+dgENZqYmortkr8LDWeEw\n",
              "0VwD6Uq8m5mNOKj08cs44vZs/FxuxVzJ8pZwqUwm/q82fo5rb+UWwyADQVSSxSnHH2ZTxgi1TJP2\n",
              "EbVT2CTSPU2tIu9adCMxKxcCN6iI0KA2FookHNnKEcdoR9JbQiifsp8ul36kJqEOZ+RpuBg3/lbb\n",
              "2wdJy6YcwdkZ4jrDjnYaAirrmV8qlFCwEmxuO+/3EQKHUYHWCjf7tvBQevIqahmkigcU0cmfVWZ6\n",
              "NR9Dn//H1xiDSRc/K+5mgmTiRZMOFzPEnNmNYQwPdofklmvL+n0/jR2skyx+/1u+i5RpFfG5AZJg\n",
              "wZfM3lct/5WjTm/DPZ87qjj01siX1eQH+et7r34lz3dG+aasDsouYdrmWk1dtiJxRRhG0BMaDOO7\n",
              "6Qu2nryagiki8MYTv/JHWds50Nt+vEuoVQQ8B6hO1eXNz6cd4plRMhIOtZDiIchpNuTl11SN9yAM\n",
              "C3PjRNXURU/7t5oBFhV8B1YF/bTuyYdsux7JGFOKhWSFR1MmnAF3jMLpueMJ87ITCMCWPdlKqZxX\n",
              "WDglCulUVgc+gxeCKAiR5BRDLGCmFpR9TfP+5Z40XrTujiOyiK68Os1VZ7fyTl1EENe69ZlHmRyy\n",
              "htNmh4TSfK59ykbqybHD2bkeTBsQ+G3EzFLCChIbOzqUdZI8iPVvgVRYhHjb8KPK+q/DZ6ygGGA/\n",
              "7EXDwbXyzKbqXdLVAJv6SHtedaepMGKCJ8Lg+Go5f+lKqJk/awSSnDyIeXXia8w2PcPssRbDZgWw\n",
              "nipc8+vdFNXQSFxT5v6/cwWv3jF5VSYK5Bm0A/0xW+7XskUspHvC6qLlODBYpdopj4D1PCpFO/GS\n",
              "So7Cyzaby/87hrTBmz+7XvGppbfP/HiVTCajakNZwnbk9HPm5T5a8TgQ5Z821wQEfHSBgqqM237V\n",
              "L8nch/7YVzissHyymycsUj0P/KftqVU1XhL/U5B/XdV20eI49SqSoMVhmxAs1fW9XLjOI4U4cXaA\n",
              "cBqm4YUIswILYfnIxgwLfZs5tY0yLxx980Ax6WFUu2/AAc1Zab6gu4Zn1l01gEBbyi6/0Uzhq31r\n",
              "vnkwFHHQwsoWwHL5+Ek33Sr9yU2W7tZ9vSqooAB/Qs6nt7T0zzlbCb2re3LibhW/4DV71p+CqiAJ\n",
              "B43fxYAEupTmRB0bSGK7Nfm0tUmSSmOCiyaX3JzOzOU71px787t4kP1eBJD2psPc4btiWY04iAtd\n",
              "D+zOoE5w2OjZ74xnDBnQB+m4/TmDvF53n/vQnoukadYlU3bqCXjn7BpNa5roaxzAbLBwTK8qPTvh\n",
              "/TWWw9T+wo0IB28yHe67E+iorT29w1x+etuxAW7YZte/n9avVJ7Qn80SM/Qz807cOK5ecTj94qZZ\n",
              "bCFjUUkA2Ar/bI6/ICQraCO3Oze9CaMfhsOp52RulR5onK9GttAH8kXL4XpTA1zXTh5LkXEUlHQa\n",
              "K1eFpIQNeFi8uzzRSD9clRzOLEzV/9xae8CRsTHiL5O1fFuaAv7Cnq3r7XCRLkNRdf53eE/rQcM/\n",
              "WzmYNdgISFvZndTTLH3zItk20ngGFMuM5PWyebMDSlvyu2sV6HF+/fLThD7KELZDdYLuhA+livlS\n",
              "+crTXe5jMF8vQ8PGh3IubXHuGix/+HCc9wQboJmn2mNZ/+hgxKQdH9sXOiiEQ7jQd2XyuO9Nd9rS\n",
              "/70JhTJex/3onnpEcShHlFAzHks7EsVKYqzgZbWybtDNh/vlPx7QuGaoC+D1SWlmKwTavIWGisOu\n",
              "GC6C+g1z7rHi7s4sOL7LC3Rl8uSPq3YLjbYXC61bkJPs9TRxLPhVsEJ//1Q3/z/hf2/zyAwi1paa\n",
              "OqqqgIUY+AfVCVRdPr/Q1Z+ALp4hvuK+PgjBiKBIqosTVHWtBUtjzO1z4rIBTrly/D42CRpA4KjK\n",
              "FdOCjBerOacSDBvhS4M6L0tgQ4pK7iQYSyjJlNFc0A/+AyKJBP1InZIoIQTnAqaiNnKPpM43meqs\n",
              "CoB3jO6ai56sUi34c9gKyaOL+l1fGPa8RtEcbJ7T9bxhQAhmn58dzqVCnsafAiR4BxzeeQp8YAEw\n",
              "FFhP4QXAuIscDEtKrPc+tdTI0Qn4nysNFuO2bec2izHD64m7KTZCy5fL8JTUPpPreRTGvI4puKK0\n",
              "ubls+6FhJWHouQpKTNUu8HL/6yQUcbH06QHQCXCgYXZhCl7uVVDLxHLwSFdt/Q/f8dMSNjHIjWcV\n",
              "DA0bsUI4bYTR3pjHLCB/ooOfpBTrQT/39jTpoZ43CF3+8gsLOFZq7SKWm+v7W2BUR5gKgSOZvoAO\n",
              "VhfMD5jjR8zZcLkHNnfbT5h3VxB6nl/D2mTUWuIbn+RDKuy4qg0JcEKVLodwE98GKE6AkZBruviC\n",
              "jkJp/mQ1+XWLlu1zxBE6Yt9KMdO2TmU/49VX/Om9m7LPtrMt3Lh/tpDcla+23w4vhwvDymU7A2mg\n",
              "GUQRy107ZOJH5IAOaxfYg3FYOMBAJRzqK6H6P8+SECJtPSsHibE2To62WFX/ksfl0NypyZ6DPYFj\n",
              "2TZc6jmDXXvBvmx3jPMjCCyMJtmlogsHFA/cOnHzE+0ykP/BBOIr+woWZBMJTVVK61WVSI7QdunV\n",
              "Vj4rJ2x26ioTbAGDt+I9Lqpzs83spxYi+AFSfX7o3aznL/U5FJtrLHfgBiabps3G8ZG6eSJCJu8z\n",
              "zwkI71snYt5kxwyYsvi/c0KvcYF5il8dGtj7vX7Z6Vi3s5pnYsU+gsCw9nTFD70skW7JIGhPYwjN\n",
              "K8NYfFmxcc1yz/5M+zkIf9yr7WufmrMfNAAuACLCovxNhenlM4lL6ygQWrqMzZMjocH9NdeIAqHm\n",
              "W05iOW2P7Rp9/Sm3VJ10tg8RZoMg1ouzCsFyQmSKoo6VnRDw67jR5Blref21s6sD7Lr4mv2CV/5f\n",
              "ZSy+NbLM9UfoanWQ1qmT+5BSc3f82gLXCqOwmDnKd7Lchra+nuufbDVcRsR5+Qg6JfRYNuFrhYXq\n",
              "7Yit10NZ6Nh5RvkvM/pyDQqZig89ckqfP6PrA/MVv5Vs/87rp+0XV6rdRjlzijtwc+pXke6OQirf\n",
              "AzQWftnPtoa09pJU0VRKn0HMwk023BrdYjcLs8Pt6IJ9k5VCYTIWxxv1NXQOotYZmEuRaDZk1znP\n",
              "qz1meIzTLL8s47yfDEA6h25eCZH8hp8JxNT4m4v7V+tK8DVSYZRQuZcQi8fTMb5Nlt2HQ2zb+kxw\n",
              "1i6OJbYl9dNomaxQ+VfsFHOjDTpSGcZtV2XlUWLHEa1QpEu6bzC83A90RKtvbzMYwfNrs0BH9mA0\n",
              "av7HmXnNRmq0JSzAuohd496Q+hr8yMXFAUrH+vhQ14vG9kA1C502IOtAAG9Rd3FobLUsNixtHMXv\n",
              "0ebD36I+zLWQPZVAlJ0n+cum21Ms3kz00Pmd3nPVA1RBFmqAg3w9XpnGckiiuqd2kwpL7EA8CgR7\n",
              "D3zRNTxFmH/sUm+CD/YGCtCg0t/TQGPOynxSOzXDZRjCbXuH1RtD0CPPm7LaWZwXiKCRr+yndchU\n",
              "oOzXVpTG7+PsDpOVPDDBBTFx7kHrIW4Bmh4eY8f2K/ksyvLEfAvAkDsJgPXkX8TwDCJo0P6eH4LG\n",
              "ptMWhkJjedwYoh/7FrPuFWMhORD4EZZafIciO0QhD3N4awOGDCa51WF3S5yH1d/Qnugc4SSKkA7f\n",
              "K6nS3xN8YIGM1ccXoYtNUEY4VS7+bxWF8xPJFgU5hNR/P6mgR563HNdBQknUMwcyNo5162UYUAkF\n",
              "TwMYS1pnZkBAiTvozNthFqBGv5flYSi18v+y3XR/W+344vNahbfZvgNZ1+IrwWkpsZqd47dsQzF6\n",
              "sOwJyIGDaNvSRSrMTcDKWY/HV9oVmGob2df8EI0e5blQkRWbE7R3KkOVaw6NwZLI2Iz4OrglVmCS\n",
              "4tDVnv6DB7Ar4B3J8vcy9pfoTl9WMSDwBf2HUzFtqPMJrUFbGhlVSNVGmaMvEtP/UNlDRqnD6OhD\n",
              "IYh4nUpARSekLwM2nGih7SxIXmBaNWY1GA/KnJMw1eCwt7/blBp09oFXI54AOh0K+LbJ/MYFvxlJ\n",
              "ylaxrUd1W/8xPL11bZgNjeF5gHN7aatCIPua0s/f2zevLqA45uA/mz+LLZ18uoPctz8qJfSS5mTQ\n",
              "YD8Y8ceYUTioiFGNW0yx9OH/L/0wXW0tVnuBHj8kGdrfa0v/bEoFb704+FtTbGX5XSSqyGkqKLDz\n",
              "UKGPG+h2ePTBV8fTRkV007DYxeOVYWQzuFTaaL6SsBJ/HWurMXtVbnzjQiQQFqdBNnt8Bbyl7/Zk\n",
              "H43zwsZWqjCzbKgxFr6Ig5GrOr7y4+jwD6NPf8u2NAl4lkL5JjIEFuwrnD99GGQFB0Azq2c1NezJ\n",
              "njZEgIfx5mbbNtrxw2a0FSwDTkA8BShJYlntSrpTel4Ow91TkCPuooHFpfx+0PBriMGQ/Ulo5Aki\n",
              "ceF6xHuVlWLznc8Plcu+pe7CN5s04fSlYneIk86p6oseuiEC83G1IKudiLbhGNf4BGAze7+Uvs3v\n",
              "VZKyd+wUCU0BNwoVzwprj5FertmvGIXaj4BXibbz2eKvM79LJGP9vV/LluPwQXs4ZU3r894NTfJj\n",
              "809KIXWzu4XxU7s+MJmkbd+bOZC+FbY2KNmUcE+x6Hx5Ny31hI6LJ4umU50NaRg7MYDY2AVAmmIU\n",
              "Q4Y/aPLrgPe134THH/loVwE59Q3I12bUFXWiW0yQefvwltCUEPTVKvyCko9SZvLxjzNXm7yHZCo5\n",
              "CojUSKf8QkIr98gO4yvgyp58CyRNwoC5YkJba+b/nKLIxcWrUkZCj7tmBNhnHYshjCE95q1a9k1T\n",
              "8BIGzNaMw9EIqBgWZGlCwXJVLtujbSVTCuzaKGwxsfLEuFYikuTEujkHYoxCN0tai6fcdGq3//xB\n",
              "2UcHa3nA2gK3tSjXW4dJSWm72rUzo2JPSkMwwdtaycXZ1MfqDGGl2kY4+UOd45vW2xKm9Hq7LSmT\n",
              "BmGU/w5miNRJh1h5kh5nengGRofdA96jz96SCiehk95A47EfV0LXDxuVjGEnN+R4+gI5Yo05s2oW\n",
              "Jhe6GOKzDROX8wMkVYHsB/YPlwLWhq03e0DfUhPsBi786V/d/+OxucziVx1Bo/wcmB2fZLpV4hQ4\n",
              "Y7Bh5UU3wc8DFGTKuhOWCuX1xMm9enxtIm5nC2myV+h/YAsvDaA/qajV2uyKcKq5vXyEmLq4/RU6\n",
              "0luJ3069yo/MnT7GTNBU+o7Qn4YamkjGVacFzrFBS59L4F2EoJCV4Dl0Fjqr9KpJr+TDn/R3oE+p\n",
              "G7dUpNnycx7V7/N5R7lXjriwukZC39PsNldW2zZ6CWPPl7FUUSSaC2muU8ZMEIQqP9GslWH5oI0U\n",
              "4EDquzlGtioPhKfge8JJyONLXQXL1sY6bDSOOiUXI0tj2GnsEY9UADtpJnenr36TIAThv8e42WBr\n",
              "EKGYJALuTZuDcNAG7FCRT3yJ2KZJrCo2rQeyNe3m10AialGeBTGLY/iVeplASKbPR/l9IYcO0768\n",
              "SdLCoVzzdSGkg6yQ/qMtTFND6CxUEctSKmzcgZRyb1wzql2mkjNvc7uzv1ZIrajrxiWfkjiIwnuH\n",
              "ecyjHl7rgh+tR3TuVRo8pUlknE5y6MFqjty/oqdaXUE2T7jP2PtC73/PFaadBlQhdVobQ9FU/9V3\n",
              "s/wBkTS+BdhHVoldNrSnaVlv8wr43rVehF3G1i9JEcF0bXK6ok4pkSnNTfZxfFNot1rFu3R4paZk\n",
              "e/7kposlhcgpMN/0H4cP90iRDzkd+VYemkdxd5hlhcq2vp7SGHDoN7ygmSZxzzHt6G6kW75AMK2x\n",
              "R1JiM8S27TnuKQ4RxRhsni6eIt7KcxssbAHcgc6GpWNCP3WcrERmtbYZkYOQckxAJp4NgtHRIfqG\n",
              "86ecFkQZEOCdS24UJCxZDkbwb19GWmTxJloWeWBOuB8U4TVF3ZfeM2IAsTME5Un/KSlK4BMD9ycQ\n",
              "vIg9SHvOHUdPQ/YFqWFedmcGeoQJFckOLPIfJerdXLAxu+zrf/pxccKmOysqjcH/nSGnWfkRlnPj\n",
              "B3a49tLfyIKdmsMd7r/FiIg+LK7XmsqixXkaKDRYaJrzfYWwm2ktsq/VQgw8G7+UWUk8jxbWmuoH\n",
              "JU5jG4rBY6r18LpQVmsYW5ZFfB+szLMSytyGWSMz6qgW8JMpnoP1ojQqE1xy8hgt9kMlnbgI2EtM\n",
              "o7E4Mpl37YT7QUb8FX43G5NJrN9SEf8TsS3E7ekVxfo1RJe0sP8dDwcChtq+X5QYthPlX3jVxOPa\n",
              "LwwqmWWxSSZsGErYEuVAiuQ/70RHa00n2lmYRIA6o8fmv27Jh6W/upHYlw+5MgbrMdaXPWz5k63w\n",
              "COWXWE27W4aj224X6Idv4zdgjPzOaXg6edNx4eQYBC+T8bHWK7kcLxRR4ddRCT5OZUVKhO+F/+aw\n",
              "6tI6FqK2QdLi8Mt1CU/1LOtJBRIKDb0xgIbD5Vm7yuiYxQIIwMeV2OwwajSCZ2GKSUPD3k8AXX9m\n",
              "/knbfut5512qd5ark1KphaMaTh48XM5Ywr000+M3pCjjgp7Fey06cxgd8mrZ/CycJBWw7gC5Y8Fz\n",
              "G8tb7OwScokUjB5RUjqgm+zR3x6FniPZly6ShH5fU4++JkvSynVDHuPQgrHm+gmmq6sPcTplTRdM\n",
              "l59wH5X3hcvlT9entjGkewuxo8ZjCnq+tyy2DhEWlSr9OGsCDaGCZoImfNmXp6QXTyrh+fVvapA9\n",
              "H0zA9NmGx04KBzxMCylLF6iKAmOaSh3vTXAb+bQ+i/V8wNvr6tW4aOigC/kY9RMuKTdoGeI1gqPx\n",
              "6FMAH/ImryX3BM1OP9TTHNQmc04589ixxL1CcokiS58LTqqjXWUZTNeRF4rTjTtowK5AKrHtljnJ\n",
              "RpAop3Bgsyg+BxKQL9J81IorxBayj1asH2EkFwDP1idHX4SIgnIDkN7HA62c65FdMa+79+tUypqk\n",
              "5ykfe04dIV/Mwa4L+Ck3UoC7FC2dCLFueuwsJFBLO/XN849oWKp0LIjNvyhWMVha1C9JBrbMn41p\n",
              "diHnPpH70MYWr316Fy1wiHBOSeo/exgZ5YjwjH8VLTzSDD5r8oGpkTg26oEHrE0Ll81MzchxDQX6\n",
              "8pgWJPmw4fZmVVyV5tW/EL9bvENpFZZvck8fvjaRi0UMgfbKg62UNiU+wiHwuY/PJO4cBRhV1UMx\n",
              "B+CuR5cZPgZe3k721ddM+nJTgR5qD0Jyyxi6yCWpeCIqv+eDxxlZtpY7NkBm0pjqrMdGj734ROyV\n",
              "odx8sErtv/bd4iMUQ4G0c+IQVUi4RQGjyfFORsqKsCCzqQMSj5z0+IPyhJQCY8hi10XvHai5hxOr\n",
              "9nGQ0XVEGoKsgjIeUbESaGrik1/wVBrFuZYUn+waBnNaF4PeGR0hmbNozZjZWlfCpTW+yzCLRNsN\n",
              "c+atd9EuCMXu4uR6xELBAAAIbEGaImxBP/61KoAaRAtgAIlTq+RZXlirFNJUcgauJGkyWfqPf8Tn\n",
              "wcTRPo5RhBG7ovPoHYHC+KvLk+ZgyWK9R5IDak8Wuo18nGCAsyphiOqHjENpea4z1gLtrn/zeAw/\n",
              "EoIQrsL3BDr20VXgf/Rw+1MFNDSoT+tTvUCu4Om55pUVn2xsNmGqBDsP6JRM+CbTRqOF35O7dZNN\n",
              "kk8QfGAtCLVAocEjqd57LuSzztob/jUnSZxXtHG34x6EkibleeMmcl/4CZ678ZryJV0nNws6/o8z\n",
              "jetZbd8Ac/bWZcvQMP6LEo14mP+LM6xnga2ttZ725TEmrUSGBGSECFrA5SuWhJqvzus9R0fakzft\n",
              "pquRa0mIV6j4jX29PbQknN9ujnUto24n0J/jihS3ffH8GVEDFJY4cn4K8R8WrEJrtsER45ejMNki\n",
              "kkI3drE9gN4p73yWsqZr6CN8sYR7z0FcdcMx9txduhR0N8gR3nmpYqTYOb5M5j1/1+P2ep9eQBzk\n",
              "odk2Wj/DQAi9q5JAeoPEAHnJJZVFHKqnpXoF8y6+G8HqqJ5bTxoYBckfAqHrJxKru9ZtiEXX3jWy\n",
              "/IOy4Ut05y/3XeNpzk4Jp6jhyiGSjf/ALSIDmxjBuudvVS2tlq89Gv5VkE6O86y1Pp36VI8S6BuK\n",
              "VkYditz56Za5M6qhOWX+L1RUpD/5izozbiv7rRtE9QPu/uA3uYFU8MlJqzoR37vgNACWj6srJ1HA\n",
              "e6aaQvXHoHnjgnUc4+bQqMeaybu1kMrVfV0NLIUf5K0gwZ3np7Denh0+tFGKlUoe5t93BQU2fRe5\n",
              "JFyLy/6emKHx+Wub0+b94Wi5s44FDzY3W4290qvaIKD5vMj7AwJeMcLQIKGVQNa7XiFXHECATF7i\n",
              "fz+9mQp2CALThI+36utpcSdpL4NUQ90NGLvEsc3PUDFqUCUFxyqJdN092dU8whrC/YekZG8P0fJ6\n",
              "jr9vm2JJewQZ/SiYVrDGQkODQZUmOkPvFxOwEf1Ri30/1TvsQ7D8UL6NvjkjcgWu+6qrIcEbIyoZ\n",
              "/ziS9P13os3flv2/zEA5bCWfItzUh/vtzOcZ8gRR/dnzOdkAMaK0+/grSP302QVT+8sl4JI28tNO\n",
              "0S0WSqm+luwSgbF1SzyaPr2H+4eAN1bdqMU5AR/haR6JHwitKSGMWWPK+nsdeBKLE3hT7+aITYm+\n",
              "rslXjRHGsJ3XcnYvKOOrFnpPVfuctQ+pL/Zv+8tl29jpNXvqAYl/dpSG5d0IeJdv5c+VwmPY9B3Q\n",
              "QyM4fopjE25Zm0Aj2nSgbBlUmpkJvHn99VQOcPc96850EJ0/Lz4AAh711x61ReIGF2/XV2aFewH+\n",
              "t/KaXdB8ET6rG5PF4MKIdArglEYgEmfQHKQjYkutU4Wd8otQP8BnY7jXQgcvqITUNWOsr/e87r7s\n",
              "ChOdVT94tq6UOxTxi40h4L30NwM+DlWzBqbi7mZvbXluNAexUE+2zrcwxBGG1w/T9O8ezHa/od5T\n",
              "vq5jQvq5dmQxzw5W7UEY+P7XHkHSs3iA0wOsQ0+p2FpgMaxznmQ96NI6OwXSu6r5mQTHL3FhmV9G\n",
              "QvBBifPF1/O6BlLf2k+87t8VsvXjvThwJ1lNWzvU45T91jLWfYf3+KNItSL0S2Hb1lSniwYLl59p\n",
              "15D5ppeMHX522N5C0Xrc9Gv3ZjJizCJEP3r/wNnjiW6l4nrYah675TZb3P8ZrvuSt0Cz+ziwrUyT\n",
              "tDb4K65MRs21mvL+aCdw+wFGcQn6Ff2Na0mzm6AcDWsq3AlFKxLpSLIk+2QJfnLmX0bXQr5g4r+e\n",
              "54fESTMuFMlZqwcZkXyGPo7RFdstx/gRF37jgh6J4QbfUaf3+/z8VC1LWRWvd41JaPC4jyANAHwB\n",
              "KaA4JbXl2LczPKDCO64frd4QPlzCZKxzmczhDt5Y1Ra31dWfF9tJDBBLY44KdrVeldQ3mZ4aYWbY\n",
              "d5EudU8N+x0/ap+4AVG59jfRmPJ5BHbb3kI0Yz3u3o/3QN3BD/gE5CH5jDhoABn2EDFjUrxqlmft\n",
              "fFbA00ND9pc5Z+JRRzhJ3BsA5zcNy6X3Jk+122MXsb8pHyCNKMl+MOkDcTdqWJ297UEXEMuDM/1J\n",
              "K486ccfKN0JFtCTYPyjClZas9RDRbprmUXvcp3iRZ92VXe1br1b/zszJEp45KWwWvJdcwpfPINA3\n",
              "ipQQEQIBbVqd6mN8sQUNlOeVSu4o9el5dJuuLNRtY7LdYglUapiiwbP22N1WCNAv04ca4qhrHLkC\n",
              "aVu95umfi3EggwG3NKP9vVbmHQAq+itvub6YBrioQAvVmk6tre8E5qMFyCL6fszGxokUtKjvRPp2\n",
              "pS9qzphZ76dHGjlq9p5M+G57bmVYHpenInsVDDwof1OjIV08gtrkHBAzS/NYr6k29MPKuRW6SX0b\n",
              "nOwjR7q8FI9a4DbEB/tbzTO6uJdQ8HwbRAbygHVToHiSaCKHuaoIYHyzP/ND1puIEyqtMS8ht8rD\n",
              "VwkClSDPNlBivlhGbgfpmhCUFifYxY3KDYduhQFrvgllXkYdjLEGC4TqBExJ81+BnnNVBJkPBx/f\n",
              "9B0YlvNkDRA+rV1GYDA+N6nOSHdE0jAEkfBn2C8hD99pllMsodHLEdjiuOJhzU0+RhtZUZ7bJlDM\n",
              "AQ7pa0KHStpRibmMN5Oc++vNUDiAYFxv7GA5ltV3/iiqoZ9jiOcFGfOlkWXFMKIiXCe4ijLvDtep\n",
              "F6CD2rDvNTB/XtTNbWnilbeA0+3a5b2KGOwTZQcTuhJkIyvb+zU0t9XB/LyRbBMCd2J+vuPZ9sko\n",
              "XJp5+yZ9ntnAKrGU8Nj2+X2jWJzyy3ulKQuNgZcYU6d9+F37krQdHcwFNY7Bjc98txX+cpZquEoE\n",
              "RWQQBmbP8f6wAAACIgGeQXkEfwAPhhrwAf0O66MADRgPE5o7CxHIkzRSHs0FdbEOGxnSzYrKdjRq\n",
              "1BhYA0Htk1UzK7LPoItB5lZlphBw3TAevS2/PGLjrON/b80QLgm5cxPNGAnWvEnVFRL8XTe/I+jW\n",
              "HtlS86jlx3+/di3HyjqWrqHw9us9eDtNHq9yvoX5KG8FogDzvpF59JdNDA64m66UyV/MpzcOp4en\n",
              "6sPY2fY09lq0FyZS+6f9y7h7IhITheFO/lFC51bEDz2usoJoziy9E93c6XwwiuYeXU2oskES9xRN\n",
              "KDhqDYvYWcKiuD+NZ0VAiMazsDKWmNM78ZzAXtoUjCScZ+M6pxf6CWQjGvGXfIncf5AGbOcfHVOp\n",
              "UT3cG3EbYcfI1ZsyLgL/p/5/hCAwr2kNPtk5dqLgDmmBGm2gKP6i5sVN3oFBpHGU/RnEQWHZpy5U\n",
              "vSIek6rtwIgt9rfOADdeUsWKYlJvXncVicArVdHvyZrofDGdhteECUnCxxAZgX7+jbLWK7ApF68y\n",
              "7KWEhQJN3dwNc49/2zH6fpqFoxGHLrp8ZQEmAQl/1ntJisUdUBNhLXyWuVXK3SDIActclpHEYK/M\n",
              "Zv1Ywb7DXhr+w56eyBpthOyk8MaAJJ39Z6HiTRCgn8ArHHn2uTDE+wdwUcSxdIvpIYbjF/Wr84bS\n",
              "0OQQkIhMdhyzdXJsk2Q/VBTQpXj2SlfRLn5j2Hgk7P67HdFCWHugm6mh6EpHLQAAATNBmkM8IZMp\n",
              "hBP//rUqgBhe1BAAOM5fTQj+Dj9NzMZHM/o/S20cdmYcv8sBvlRnURR8E4tb9iH4Dlwwe5dXI+nO\n",
              "SQibvIBE3/NTLt3K/fZhZMMm0mA+wJBlJ8gF9wvG0bSB/ijqYcQycdeqvmD2UltCaEu2rl0O+hUQ\n",
              "qGWo2k3Wtt4IuqqkIe/e8qQmmk3tfemVv9oKn9F5y9KSJm33E0f3R8eFdJP7bXtq8Erfb6gnyftb\n",
              "r412/Fbn7wTaA92OlftV0jSgBo1cktOvlSU9pO6qDU6113fnL09WtkXhWrIn8t5zQfvYaKrE3kuM\n",
              "HRctFysPsacWV+b6YmlW+SvdhuCQz4J93yTeeQLgZAhZknnnycjPG1hp9P10pxtD8AnTb16rVeL6\n",
              "x0SHz/PnPLkeb6qp6FcCAAAAzUGaZEnhDyZTAgp//taMsAZQ3bREH+AAcYNjN8SHErZRDqLYT11N\n",
              "iTdtatzFIEHn9kfujpHnFQNMLHUWkuqFedRKOJ1gMbAb3YbyRHjENfu0Ba7P5FmdqG8uhXA37vQE\n",
              "7wrBxrSNsGtaniHkrwiKF1NTQME40BZKbT8tCxj8GATpuzjDAUG5GZz/BpRRH71tWFl5ooGvQ/az\n",
              "F4S3qGLuqyBVihMvkfucPhrAUsrcDhk/oXuOgdBRBhe3bfcKUMwqIyA1QZMM73iKLYABb4EAAADv\n",
              "QZqISeEPJlMCCX/+tSqAAtxS8wAGgekYWrNP41h+FyQpQUjo3tSZa32YEmcvHKa/omoJdKYQZ0YX\n",
              "CsQXPgFp84Ym04eJZZJiHaenAql06qauisYcHqAaYbic1ZpoKvVznqvMRhI0qEisQnejiwVLZ+oN\n",
              "8qu+4f1XL05pfV4Bi2Vk44AIQeTq5drrVxDNwqm7t54BliXAomzvJNqzPw/jp4qrDzsQ8k9IF4lq\n",
              "fjPfSNe2bmUsWdYd0wUkJB84bC3cbxVez5X+lxkE0KEfcn83lJqKnIi3CnPT/OX/0ihDUD51e4Y9\n",
              "sBxBEZpdIxQohYEAAABBQZ6mRRE8Ev8ABc+JeCk/YSQKFwE1DQpNIhYjuU0A6p6AGtSF27BRIDLL\n",
              "Iteq5RA7g/snY4MJDGC/ExV+eRCfQUEAAAA2AZ7FdEEfAAHaij241eUKKADQTN8CuRtuYStsg6i6\n",
              "1ebMu7r8f4AIcSsbW7/lRWTRoW50sWRBAAAAJQGex2pBHwAAOJIj+gWJQnqEgKzX9sohoAIcWKkg\n",
              "4CREuzjZP6AAAAAqQZrJSahBaJlMCCP//rUqgAAAoX2GOeykYTJYMABCCxUkHASIl2cbOybAAAAD\n",
              "nm1vb3YAAABsbXZoZAAAAAAAAAAAAAAAAAAAA+gAAAu4AAEAAAEAAAAAAAAAAAAAAAABAAAAAAAA\n",
              "AAAAAAAAAAAAAQAAAAAAAAAAAAAAAAAAQAAAAAAAAAAAAAAAAAAAAAAAAAAAAAAAAAAAAAAAAAIA\n",
              "AALIdHJhawAAAFx0a2hkAAAAAwAAAAAAAAAAAAAAAQAAAAAAAAu4AAAAAAAAAAAAAAAAAAAAAAAB\n",
              "AAAAAAAAAAAAAAAAAAAAAQAAAAAAAAAAAAAAAAAAQAAAAAGwAAABIAAAAAAAJGVkdHMAAAAcZWxz\n",
              "dAAAAAAAAAABAAALuAAAGAAAAQAAAAACQG1kaWEAAAAgbWRoZAAAAAAAAAAAAAAAAAAAKAAAAHgA\n",
              "VcQAAAAAAC1oZGxyAAAAAAAAAAB2aWRlAAAAAAAAAAAAAAAAVmlkZW9IYW5kbGVyAAAAAettaW5m\n",
              "AAAAFHZtaGQAAAABAAAAAAAAAAAAAAAkZGluZgAAABxkcmVmAAAAAAAAAAEAAAAMdXJsIAAAAAEA\n",
              "AAGrc3RibAAAALNzdHNkAAAAAAAAAAEAAACjYXZjMQAAAAAAAAABAAAAAAAAAAAAAAAAAAAAAAGw\n",
              "ASAASAAAAEgAAAAAAAAAAQAAAAAAAAAAAAAAAAAAAAAAAAAAAAAAAAAAAAAAAAAAABj//wAAADFh\n",
              "dmNDAWQAFf/hABhnZAAVrNlBsJaEAAADAAwAAAMAUDxYtlgBAAZo6+PLIsAAAAAcdXVpZGtoQPJf\n",
              "JE/FujmlG88DI/MAAAAAAAAAGHN0dHMAAAAAAAAAAQAAAAoAAAwAAAAAFHN0c3MAAAAAAAAAAQAA\n",
              "AAEAAABYY3R0cwAAAAAAAAAJAAAAAQAAGAAAAAABAAAkAAAAAAEAAAwAAAAAAgAAGAAAAAABAAA8\n",
              "AAAAAAEAABgAAAAAAQAAAAAAAAABAAAMAAAAAAEAABgAAAAAHHN0c2MAAAAAAAAAAQAAAAEAAAAK\n",
              "AAAAAQAAADxzdHN6AAAAAAAAAAAAAAAKAABN0QAACHAAAAImAAABNwAAANEAAADzAAAARQAAADoA\n",
              "AAApAAAALgAAABRzdGNvAAAAAAAAAAEAAAAsAAAAYnVkdGEAAABabWV0YQAAAAAAAAAhaGRscgAA\n",
              "AAAAAAAAbWRpcmFwcGwAAAAAAAAAAAAAAAAtaWxzdAAAACWpdG9vAAAAHWRhdGEAAAABAAAAAExh\n",
              "dmY1OC4yOS4xMDA=\n",
              "\">\n",
              "  Your browser does not support the video tag.\n",
              "</video>"
            ]
          },
          "metadata": {}
        }
      ]
    }
  ]
}